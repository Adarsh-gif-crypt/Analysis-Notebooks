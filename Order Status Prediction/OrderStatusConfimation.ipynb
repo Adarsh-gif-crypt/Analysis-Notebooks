{
 "cells": [
  {
   "cell_type": "code",
   "execution_count": 1,
   "id": "207ca615",
   "metadata": {},
   "outputs": [],
   "source": [
    "import numpy as np\n",
    "import pandas as pd\n",
    "\n",
    "from matplotlib import pyplot\n",
    "import seaborn as sns\n",
    "import missingno as msno\n",
    "\n",
    "from sklearn.ensemble import RandomForestClassifier\n",
    "from sklearn.tree import DecisionTreeClassifier\n",
    "from sklearn.linear_model import LogisticRegression\n",
    "from sklearn import svm"
   ]
  },
  {
   "cell_type": "code",
   "execution_count": 2,
   "id": "c48b95b5",
   "metadata": {},
   "outputs": [],
   "source": [
    "data = pd.read_csv(\"D:\\DS\\Order Status Prediction\\orders_data.csv\")"
   ]
  },
  {
   "cell_type": "code",
   "execution_count": 3,
   "id": "b8df5fb7",
   "metadata": {},
   "outputs": [
    {
     "data": {
      "text/html": [
       "<div>\n",
       "<style scoped>\n",
       "    .dataframe tbody tr th:only-of-type {\n",
       "        vertical-align: middle;\n",
       "    }\n",
       "\n",
       "    .dataframe tbody tr th {\n",
       "        vertical-align: top;\n",
       "    }\n",
       "\n",
       "    .dataframe thead th {\n",
       "        text-align: right;\n",
       "    }\n",
       "</style>\n",
       "<table border=\"1\" class=\"dataframe\">\n",
       "  <thead>\n",
       "    <tr style=\"text-align: right;\">\n",
       "      <th></th>\n",
       "      <th>order_no</th>\n",
       "      <th>order_date</th>\n",
       "      <th>buyer</th>\n",
       "      <th>ship_city</th>\n",
       "      <th>ship_state</th>\n",
       "      <th>sku</th>\n",
       "      <th>description</th>\n",
       "      <th>quantity</th>\n",
       "      <th>item_total</th>\n",
       "      <th>shipping_fee</th>\n",
       "      <th>cod</th>\n",
       "      <th>order_status</th>\n",
       "    </tr>\n",
       "  </thead>\n",
       "  <tbody>\n",
       "    <tr>\n",
       "      <th>0</th>\n",
       "      <td>405-9763961-5211537</td>\n",
       "      <td>Sun, 18 Jul, 2021, 10:38 pm IST</td>\n",
       "      <td>Mr.</td>\n",
       "      <td>CHANDIGARH,</td>\n",
       "      <td>CHANDIGARH</td>\n",
       "      <td>SKU:  2X-3C0F-KNJE</td>\n",
       "      <td>100% Leather Elephant Shaped Piggy Coin Bank |...</td>\n",
       "      <td>1</td>\n",
       "      <td>₹449.00</td>\n",
       "      <td>NaN</td>\n",
       "      <td>NaN</td>\n",
       "      <td>Delivered to buyer</td>\n",
       "    </tr>\n",
       "    <tr>\n",
       "      <th>1</th>\n",
       "      <td>404-3964908-7850720</td>\n",
       "      <td>Tue, 19 Oct, 2021, 6:05 pm IST</td>\n",
       "      <td>Minam</td>\n",
       "      <td>PASIGHAT,</td>\n",
       "      <td>ARUNACHAL PRADESH</td>\n",
       "      <td>SKU:  DN-0WDX-VYOT</td>\n",
       "      <td>Women's Set of 5 Multicolor Pure Leather Singl...</td>\n",
       "      <td>1</td>\n",
       "      <td>₹449.00</td>\n",
       "      <td>₹60.18</td>\n",
       "      <td>NaN</td>\n",
       "      <td>Delivered to buyer</td>\n",
       "    </tr>\n",
       "    <tr>\n",
       "      <th>2</th>\n",
       "      <td>171-8103182-4289117</td>\n",
       "      <td>Sun, 28 Nov, 2021, 10:20 pm IST</td>\n",
       "      <td>yatipertin</td>\n",
       "      <td>PASIGHAT,</td>\n",
       "      <td>ARUNACHAL PRADESH</td>\n",
       "      <td>SKU:  DN-0WDX-VYOT</td>\n",
       "      <td>Women's Set of 5 Multicolor Pure Leather Singl...</td>\n",
       "      <td>1</td>\n",
       "      <td>₹449.00</td>\n",
       "      <td>₹60.18</td>\n",
       "      <td>NaN</td>\n",
       "      <td>Delivered to buyer</td>\n",
       "    </tr>\n",
       "    <tr>\n",
       "      <th>3</th>\n",
       "      <td>405-3171677-9557154</td>\n",
       "      <td>Wed, 28 Jul, 2021, 4:06 am IST</td>\n",
       "      <td>aciya</td>\n",
       "      <td>DEVARAKONDA,</td>\n",
       "      <td>TELANGANA</td>\n",
       "      <td>SKU:  AH-J3AO-R7DN</td>\n",
       "      <td>Pure 100% Leather Block Print Rectangular Jewe...</td>\n",
       "      <td>1</td>\n",
       "      <td>NaN</td>\n",
       "      <td>NaN</td>\n",
       "      <td>Cash On Delivery</td>\n",
       "      <td>Delivered to buyer</td>\n",
       "    </tr>\n",
       "    <tr>\n",
       "      <th>4</th>\n",
       "      <td>402-8910771-1215552</td>\n",
       "      <td>Tue, 28 Sept, 2021, 2:50 pm IST</td>\n",
       "      <td>Susmita</td>\n",
       "      <td>MUMBAI,</td>\n",
       "      <td>MAHARASHTRA</td>\n",
       "      <td>SKU:  KL-7WAA-Z82I</td>\n",
       "      <td>Pure Leather Sling Bag with Multiple Pockets a...</td>\n",
       "      <td>1</td>\n",
       "      <td>₹1,099.00</td>\n",
       "      <td>₹84.96</td>\n",
       "      <td>NaN</td>\n",
       "      <td>Delivered to buyer</td>\n",
       "    </tr>\n",
       "    <tr>\n",
       "      <th>...</th>\n",
       "      <td>...</td>\n",
       "      <td>...</td>\n",
       "      <td>...</td>\n",
       "      <td>...</td>\n",
       "      <td>...</td>\n",
       "      <td>...</td>\n",
       "      <td>...</td>\n",
       "      <td>...</td>\n",
       "      <td>...</td>\n",
       "      <td>...</td>\n",
       "      <td>...</td>\n",
       "      <td>...</td>\n",
       "    </tr>\n",
       "    <tr>\n",
       "      <th>166</th>\n",
       "      <td>171-2829978-1258758</td>\n",
       "      <td>Mon, 13 Dec, 2021, 11:30 am IST</td>\n",
       "      <td>Shahin</td>\n",
       "      <td>MUMBAI,</td>\n",
       "      <td>MAHARASHTRA</td>\n",
       "      <td>SKU:  DN-0WDX-VYOT</td>\n",
       "      <td>Women's Set of 5 Multicolor Pure Leather Singl...</td>\n",
       "      <td>3</td>\n",
       "      <td>₹1,347.00</td>\n",
       "      <td>₹84.96</td>\n",
       "      <td>Cash On Delivery</td>\n",
       "      <td>Delivered to buyer</td>\n",
       "    </tr>\n",
       "    <tr>\n",
       "      <th>167</th>\n",
       "      <td>402-3045457-5360311</td>\n",
       "      <td>Wed, 1 Dec, 2021, 12:18 pm IST</td>\n",
       "      <td>Sharmistha</td>\n",
       "      <td>DEHRADUN,</td>\n",
       "      <td>UTTARAKHAND</td>\n",
       "      <td>SKU:  SB-WDQN-SDN9</td>\n",
       "      <td>Traditional Block-Printed Women's 100% Pure Le...</td>\n",
       "      <td>1</td>\n",
       "      <td>₹1,299.00</td>\n",
       "      <td>₹114.46</td>\n",
       "      <td>NaN</td>\n",
       "      <td>Delivered to buyer</td>\n",
       "    </tr>\n",
       "    <tr>\n",
       "      <th>168</th>\n",
       "      <td>408-2260162-8323567</td>\n",
       "      <td>Thu, 9 Dec, 2021, 6:55 pm IST</td>\n",
       "      <td>shashank</td>\n",
       "      <td>Durg,</td>\n",
       "      <td>CHHATTISGARH</td>\n",
       "      <td>SKU:  SB-WDQN-SDN9</td>\n",
       "      <td>Traditional Block-Printed Women's 100% Pure Le...</td>\n",
       "      <td>1</td>\n",
       "      <td>₹1,299.00</td>\n",
       "      <td>₹105.02</td>\n",
       "      <td>NaN</td>\n",
       "      <td>Delivered to buyer</td>\n",
       "    </tr>\n",
       "    <tr>\n",
       "      <th>169</th>\n",
       "      <td>403-5664951-8941100</td>\n",
       "      <td>Wed, 23 Feb, 2022, 12:43 am IST</td>\n",
       "      <td>Jayeta</td>\n",
       "      <td>KOLKATA,</td>\n",
       "      <td>WEST BENGAL</td>\n",
       "      <td>SKU:  N8-YFZF-P74I</td>\n",
       "      <td>Stylish and Sleek Multiple Pockets 100 Percent...</td>\n",
       "      <td>1</td>\n",
       "      <td>₹1,499.00</td>\n",
       "      <td>₹80.24</td>\n",
       "      <td>Cash On Delivery</td>\n",
       "      <td>Delivered to buyer</td>\n",
       "    </tr>\n",
       "    <tr>\n",
       "      <th>170</th>\n",
       "      <td>402-4845680-8041921</td>\n",
       "      <td>Sun, 26 Dec, 2021, 6:21 pm IST</td>\n",
       "      <td>Varun</td>\n",
       "      <td>MUMBAI,</td>\n",
       "      <td>MAHARASHTRA</td>\n",
       "      <td>SKU:  2X-3C0F-KNJE</td>\n",
       "      <td>100% Leather Elephant Shaped Piggy Coin Bank |...</td>\n",
       "      <td>1</td>\n",
       "      <td>₹449.00</td>\n",
       "      <td>₹84.96</td>\n",
       "      <td>NaN</td>\n",
       "      <td>Delivered to buyer</td>\n",
       "    </tr>\n",
       "  </tbody>\n",
       "</table>\n",
       "<p>171 rows × 12 columns</p>\n",
       "</div>"
      ],
      "text/plain": [
       "                order_no                       order_date       buyer  \\\n",
       "0    405-9763961-5211537  Sun, 18 Jul, 2021, 10:38 pm IST         Mr.   \n",
       "1    404-3964908-7850720   Tue, 19 Oct, 2021, 6:05 pm IST       Minam   \n",
       "2    171-8103182-4289117  Sun, 28 Nov, 2021, 10:20 pm IST  yatipertin   \n",
       "3    405-3171677-9557154   Wed, 28 Jul, 2021, 4:06 am IST       aciya   \n",
       "4    402-8910771-1215552  Tue, 28 Sept, 2021, 2:50 pm IST     Susmita   \n",
       "..                   ...                              ...         ...   \n",
       "166  171-2829978-1258758  Mon, 13 Dec, 2021, 11:30 am IST      Shahin   \n",
       "167  402-3045457-5360311   Wed, 1 Dec, 2021, 12:18 pm IST  Sharmistha   \n",
       "168  408-2260162-8323567    Thu, 9 Dec, 2021, 6:55 pm IST    shashank   \n",
       "169  403-5664951-8941100  Wed, 23 Feb, 2022, 12:43 am IST      Jayeta   \n",
       "170  402-4845680-8041921   Sun, 26 Dec, 2021, 6:21 pm IST       Varun   \n",
       "\n",
       "        ship_city         ship_state                 sku  \\\n",
       "0     CHANDIGARH,         CHANDIGARH  SKU:  2X-3C0F-KNJE   \n",
       "1       PASIGHAT,  ARUNACHAL PRADESH  SKU:  DN-0WDX-VYOT   \n",
       "2       PASIGHAT,  ARUNACHAL PRADESH  SKU:  DN-0WDX-VYOT   \n",
       "3    DEVARAKONDA,          TELANGANA  SKU:  AH-J3AO-R7DN   \n",
       "4         MUMBAI,        MAHARASHTRA  SKU:  KL-7WAA-Z82I   \n",
       "..            ...                ...                 ...   \n",
       "166       MUMBAI,        MAHARASHTRA  SKU:  DN-0WDX-VYOT   \n",
       "167     DEHRADUN,        UTTARAKHAND  SKU:  SB-WDQN-SDN9   \n",
       "168         Durg,       CHHATTISGARH  SKU:  SB-WDQN-SDN9   \n",
       "169      KOLKATA,        WEST BENGAL  SKU:  N8-YFZF-P74I   \n",
       "170       MUMBAI,        MAHARASHTRA  SKU:  2X-3C0F-KNJE   \n",
       "\n",
       "                                           description  quantity item_total  \\\n",
       "0    100% Leather Elephant Shaped Piggy Coin Bank |...         1    ₹449.00   \n",
       "1    Women's Set of 5 Multicolor Pure Leather Singl...         1    ₹449.00   \n",
       "2    Women's Set of 5 Multicolor Pure Leather Singl...         1    ₹449.00   \n",
       "3    Pure 100% Leather Block Print Rectangular Jewe...         1        NaN   \n",
       "4    Pure Leather Sling Bag with Multiple Pockets a...         1  ₹1,099.00   \n",
       "..                                                 ...       ...        ...   \n",
       "166  Women's Set of 5 Multicolor Pure Leather Singl...         3  ₹1,347.00   \n",
       "167  Traditional Block-Printed Women's 100% Pure Le...         1  ₹1,299.00   \n",
       "168  Traditional Block-Printed Women's 100% Pure Le...         1  ₹1,299.00   \n",
       "169  Stylish and Sleek Multiple Pockets 100 Percent...         1  ₹1,499.00   \n",
       "170  100% Leather Elephant Shaped Piggy Coin Bank |...         1    ₹449.00   \n",
       "\n",
       "    shipping_fee               cod        order_status  \n",
       "0            NaN               NaN  Delivered to buyer  \n",
       "1         ₹60.18               NaN  Delivered to buyer  \n",
       "2         ₹60.18               NaN  Delivered to buyer  \n",
       "3            NaN  Cash On Delivery  Delivered to buyer  \n",
       "4         ₹84.96               NaN  Delivered to buyer  \n",
       "..           ...               ...                 ...  \n",
       "166       ₹84.96  Cash On Delivery  Delivered to buyer  \n",
       "167      ₹114.46               NaN  Delivered to buyer  \n",
       "168      ₹105.02               NaN  Delivered to buyer  \n",
       "169       ₹80.24  Cash On Delivery  Delivered to buyer  \n",
       "170       ₹84.96               NaN  Delivered to buyer  \n",
       "\n",
       "[171 rows x 12 columns]"
      ]
     },
     "execution_count": 3,
     "metadata": {},
     "output_type": "execute_result"
    }
   ],
   "source": [
    "data"
   ]
  },
  {
   "cell_type": "code",
   "execution_count": 4,
   "id": "2331d18e",
   "metadata": {},
   "outputs": [
    {
     "data": {
      "text/plain": [
       "<AxesSubplot:>"
      ]
     },
     "execution_count": 4,
     "metadata": {},
     "output_type": "execute_result"
    },
    {
     "data": {
      "image/png": "[encoded data removed]",
      "text/plain": [
       "<Figure size 1800x720 with 2 Axes>"
      ]
     },
     "metadata": {
      "needs_background": "light"
     },
     "output_type": "display_data"
    }
   ],
   "source": [
    "msno.matrix(data)"
   ]
  },
  {
   "cell_type": "code",
   "execution_count": 5,
   "id": "8e80a84e",
   "metadata": {},
   "outputs": [
    {
     "data": {
      "text/plain": [
       "124"
      ]
     },
     "execution_count": 5,
     "metadata": {},
     "output_type": "execute_result"
    }
   ],
   "source": [
    "data['cod'].isna().sum()"
   ]
  },
  {
   "cell_type": "code",
   "execution_count": 6,
   "id": "3a31e5b8",
   "metadata": {},
   "outputs": [
    {
     "data": {
      "text/plain": [
       "18"
      ]
     },
     "execution_count": 6,
     "metadata": {},
     "output_type": "execute_result"
    }
   ],
   "source": [
    "data['item_total'].isna().sum()"
   ]
  },
  {
   "cell_type": "code",
   "execution_count": 7,
   "id": "66a7876c",
   "metadata": {},
   "outputs": [
    {
     "data": {
      "text/plain": [
       "26"
      ]
     },
     "execution_count": 7,
     "metadata": {},
     "output_type": "execute_result"
    }
   ],
   "source": [
    "data['shipping_fee'].isna().sum()"
   ]
  },
  {
   "cell_type": "code",
   "execution_count": 8,
   "id": "f8005a6b",
   "metadata": {},
   "outputs": [
    {
     "data": {
      "text/plain": [
       "0      405-9763961-5211537\n",
       "1      404-3964908-7850720\n",
       "2      171-8103182-4289117\n",
       "3      405-3171677-9557154\n",
       "4      402-8910771-1215552\n",
       "              ...         \n",
       "166    171-2829978-1258758\n",
       "167    402-3045457-5360311\n",
       "168    408-2260162-8323567\n",
       "169    403-5664951-8941100\n",
       "170    402-4845680-8041921\n",
       "Name: order_no, Length: 171, dtype: object"
      ]
     },
     "execution_count": 8,
     "metadata": {},
     "output_type": "execute_result"
    }
   ],
   "source": [
    "data.pop('order_no')"
   ]
  },
  {
   "cell_type": "code",
   "execution_count": 9,
   "id": "04e2f871",
   "metadata": {},
   "outputs": [],
   "source": [
    "var = np.nan\n",
    "data['cod'].replace({'Cash On Delivery': 1, var: 0}, inplace=True)"
   ]
  },
  {
   "cell_type": "code",
   "execution_count": 10,
   "id": "10957c72",
   "metadata": {},
   "outputs": [
    {
     "data": {
      "text/plain": [
       "0      0\n",
       "1      0\n",
       "2      0\n",
       "3      1\n",
       "4      0\n",
       "      ..\n",
       "166    1\n",
       "167    0\n",
       "168    0\n",
       "169    1\n",
       "170    0\n",
       "Name: cod, Length: 171, dtype: int64"
      ]
     },
     "execution_count": 10,
     "metadata": {},
     "output_type": "execute_result"
    }
   ],
   "source": [
    "data['cod']"
   ]
  },
  {
   "cell_type": "code",
   "execution_count": 11,
   "id": "cbda3875",
   "metadata": {},
   "outputs": [],
   "source": [
    "amounts = ['item_total', 'shipping_fee']\n",
    "for i in amounts:\n",
    "    data[i] = data[i].apply(lambda x: str(x).replace(',', ''))\n",
    "    data[i] = data[i].apply(lambda x: x[1:])"
   ]
  },
  {
   "cell_type": "code",
   "execution_count": 12,
   "id": "60bdbff6",
   "metadata": {},
   "outputs": [
    {
     "data": {
      "text/html": [
       "<div>\n",
       "<style scoped>\n",
       "    .dataframe tbody tr th:only-of-type {\n",
       "        vertical-align: middle;\n",
       "    }\n",
       "\n",
       "    .dataframe tbody tr th {\n",
       "        vertical-align: top;\n",
       "    }\n",
       "\n",
       "    .dataframe thead th {\n",
       "        text-align: right;\n",
       "    }\n",
       "</style>\n",
       "<table border=\"1\" class=\"dataframe\">\n",
       "  <thead>\n",
       "    <tr style=\"text-align: right;\">\n",
       "      <th></th>\n",
       "      <th>order_date</th>\n",
       "      <th>buyer</th>\n",
       "      <th>ship_city</th>\n",
       "      <th>ship_state</th>\n",
       "      <th>sku</th>\n",
       "      <th>description</th>\n",
       "      <th>quantity</th>\n",
       "      <th>item_total</th>\n",
       "      <th>shipping_fee</th>\n",
       "      <th>cod</th>\n",
       "      <th>order_status</th>\n",
       "    </tr>\n",
       "  </thead>\n",
       "  <tbody>\n",
       "    <tr>\n",
       "      <th>0</th>\n",
       "      <td>Sun, 18 Jul, 2021, 10:38 pm IST</td>\n",
       "      <td>Mr.</td>\n",
       "      <td>CHANDIGARH,</td>\n",
       "      <td>CHANDIGARH</td>\n",
       "      <td>SKU:  2X-3C0F-KNJE</td>\n",
       "      <td>100% Leather Elephant Shaped Piggy Coin Bank |...</td>\n",
       "      <td>1</td>\n",
       "      <td>449.00</td>\n",
       "      <td>an</td>\n",
       "      <td>0</td>\n",
       "      <td>Delivered to buyer</td>\n",
       "    </tr>\n",
       "    <tr>\n",
       "      <th>1</th>\n",
       "      <td>Tue, 19 Oct, 2021, 6:05 pm IST</td>\n",
       "      <td>Minam</td>\n",
       "      <td>PASIGHAT,</td>\n",
       "      <td>ARUNACHAL PRADESH</td>\n",
       "      <td>SKU:  DN-0WDX-VYOT</td>\n",
       "      <td>Women's Set of 5 Multicolor Pure Leather Singl...</td>\n",
       "      <td>1</td>\n",
       "      <td>449.00</td>\n",
       "      <td>60.18</td>\n",
       "      <td>0</td>\n",
       "      <td>Delivered to buyer</td>\n",
       "    </tr>\n",
       "    <tr>\n",
       "      <th>2</th>\n",
       "      <td>Sun, 28 Nov, 2021, 10:20 pm IST</td>\n",
       "      <td>yatipertin</td>\n",
       "      <td>PASIGHAT,</td>\n",
       "      <td>ARUNACHAL PRADESH</td>\n",
       "      <td>SKU:  DN-0WDX-VYOT</td>\n",
       "      <td>Women's Set of 5 Multicolor Pure Leather Singl...</td>\n",
       "      <td>1</td>\n",
       "      <td>449.00</td>\n",
       "      <td>60.18</td>\n",
       "      <td>0</td>\n",
       "      <td>Delivered to buyer</td>\n",
       "    </tr>\n",
       "    <tr>\n",
       "      <th>3</th>\n",
       "      <td>Wed, 28 Jul, 2021, 4:06 am IST</td>\n",
       "      <td>aciya</td>\n",
       "      <td>DEVARAKONDA,</td>\n",
       "      <td>TELANGANA</td>\n",
       "      <td>SKU:  AH-J3AO-R7DN</td>\n",
       "      <td>Pure 100% Leather Block Print Rectangular Jewe...</td>\n",
       "      <td>1</td>\n",
       "      <td>an</td>\n",
       "      <td>an</td>\n",
       "      <td>1</td>\n",
       "      <td>Delivered to buyer</td>\n",
       "    </tr>\n",
       "    <tr>\n",
       "      <th>4</th>\n",
       "      <td>Tue, 28 Sept, 2021, 2:50 pm IST</td>\n",
       "      <td>Susmita</td>\n",
       "      <td>MUMBAI,</td>\n",
       "      <td>MAHARASHTRA</td>\n",
       "      <td>SKU:  KL-7WAA-Z82I</td>\n",
       "      <td>Pure Leather Sling Bag with Multiple Pockets a...</td>\n",
       "      <td>1</td>\n",
       "      <td>1099.00</td>\n",
       "      <td>84.96</td>\n",
       "      <td>0</td>\n",
       "      <td>Delivered to buyer</td>\n",
       "    </tr>\n",
       "    <tr>\n",
       "      <th>...</th>\n",
       "      <td>...</td>\n",
       "      <td>...</td>\n",
       "      <td>...</td>\n",
       "      <td>...</td>\n",
       "      <td>...</td>\n",
       "      <td>...</td>\n",
       "      <td>...</td>\n",
       "      <td>...</td>\n",
       "      <td>...</td>\n",
       "      <td>...</td>\n",
       "      <td>...</td>\n",
       "    </tr>\n",
       "    <tr>\n",
       "      <th>166</th>\n",
       "      <td>Mon, 13 Dec, 2021, 11:30 am IST</td>\n",
       "      <td>Shahin</td>\n",
       "      <td>MUMBAI,</td>\n",
       "      <td>MAHARASHTRA</td>\n",
       "      <td>SKU:  DN-0WDX-VYOT</td>\n",
       "      <td>Women's Set of 5 Multicolor Pure Leather Singl...</td>\n",
       "      <td>3</td>\n",
       "      <td>1347.00</td>\n",
       "      <td>84.96</td>\n",
       "      <td>1</td>\n",
       "      <td>Delivered to buyer</td>\n",
       "    </tr>\n",
       "    <tr>\n",
       "      <th>167</th>\n",
       "      <td>Wed, 1 Dec, 2021, 12:18 pm IST</td>\n",
       "      <td>Sharmistha</td>\n",
       "      <td>DEHRADUN,</td>\n",
       "      <td>UTTARAKHAND</td>\n",
       "      <td>SKU:  SB-WDQN-SDN9</td>\n",
       "      <td>Traditional Block-Printed Women's 100% Pure Le...</td>\n",
       "      <td>1</td>\n",
       "      <td>1299.00</td>\n",
       "      <td>114.46</td>\n",
       "      <td>0</td>\n",
       "      <td>Delivered to buyer</td>\n",
       "    </tr>\n",
       "    <tr>\n",
       "      <th>168</th>\n",
       "      <td>Thu, 9 Dec, 2021, 6:55 pm IST</td>\n",
       "      <td>shashank</td>\n",
       "      <td>Durg,</td>\n",
       "      <td>CHHATTISGARH</td>\n",
       "      <td>SKU:  SB-WDQN-SDN9</td>\n",
       "      <td>Traditional Block-Printed Women's 100% Pure Le...</td>\n",
       "      <td>1</td>\n",
       "      <td>1299.00</td>\n",
       "      <td>105.02</td>\n",
       "      <td>0</td>\n",
       "      <td>Delivered to buyer</td>\n",
       "    </tr>\n",
       "    <tr>\n",
       "      <th>169</th>\n",
       "      <td>Wed, 23 Feb, 2022, 12:43 am IST</td>\n",
       "      <td>Jayeta</td>\n",
       "      <td>KOLKATA,</td>\n",
       "      <td>WEST BENGAL</td>\n",
       "      <td>SKU:  N8-YFZF-P74I</td>\n",
       "      <td>Stylish and Sleek Multiple Pockets 100 Percent...</td>\n",
       "      <td>1</td>\n",
       "      <td>1499.00</td>\n",
       "      <td>80.24</td>\n",
       "      <td>1</td>\n",
       "      <td>Delivered to buyer</td>\n",
       "    </tr>\n",
       "    <tr>\n",
       "      <th>170</th>\n",
       "      <td>Sun, 26 Dec, 2021, 6:21 pm IST</td>\n",
       "      <td>Varun</td>\n",
       "      <td>MUMBAI,</td>\n",
       "      <td>MAHARASHTRA</td>\n",
       "      <td>SKU:  2X-3C0F-KNJE</td>\n",
       "      <td>100% Leather Elephant Shaped Piggy Coin Bank |...</td>\n",
       "      <td>1</td>\n",
       "      <td>449.00</td>\n",
       "      <td>84.96</td>\n",
       "      <td>0</td>\n",
       "      <td>Delivered to buyer</td>\n",
       "    </tr>\n",
       "  </tbody>\n",
       "</table>\n",
       "<p>171 rows × 11 columns</p>\n",
       "</div>"
      ],
      "text/plain": [
       "                          order_date       buyer     ship_city  \\\n",
       "0    Sun, 18 Jul, 2021, 10:38 pm IST         Mr.   CHANDIGARH,   \n",
       "1     Tue, 19 Oct, 2021, 6:05 pm IST       Minam     PASIGHAT,   \n",
       "2    Sun, 28 Nov, 2021, 10:20 pm IST  yatipertin     PASIGHAT,   \n",
       "3     Wed, 28 Jul, 2021, 4:06 am IST       aciya  DEVARAKONDA,   \n",
       "4    Tue, 28 Sept, 2021, 2:50 pm IST     Susmita       MUMBAI,   \n",
       "..                               ...         ...           ...   \n",
       "166  Mon, 13 Dec, 2021, 11:30 am IST      Shahin       MUMBAI,   \n",
       "167   Wed, 1 Dec, 2021, 12:18 pm IST  Sharmistha     DEHRADUN,   \n",
       "168    Thu, 9 Dec, 2021, 6:55 pm IST    shashank         Durg,   \n",
       "169  Wed, 23 Feb, 2022, 12:43 am IST      Jayeta      KOLKATA,   \n",
       "170   Sun, 26 Dec, 2021, 6:21 pm IST       Varun       MUMBAI,   \n",
       "\n",
       "            ship_state                 sku  \\\n",
       "0           CHANDIGARH  SKU:  2X-3C0F-KNJE   \n",
       "1    ARUNACHAL PRADESH  SKU:  DN-0WDX-VYOT   \n",
       "2    ARUNACHAL PRADESH  SKU:  DN-0WDX-VYOT   \n",
       "3            TELANGANA  SKU:  AH-J3AO-R7DN   \n",
       "4          MAHARASHTRA  SKU:  KL-7WAA-Z82I   \n",
       "..                 ...                 ...   \n",
       "166        MAHARASHTRA  SKU:  DN-0WDX-VYOT   \n",
       "167        UTTARAKHAND  SKU:  SB-WDQN-SDN9   \n",
       "168       CHHATTISGARH  SKU:  SB-WDQN-SDN9   \n",
       "169        WEST BENGAL  SKU:  N8-YFZF-P74I   \n",
       "170        MAHARASHTRA  SKU:  2X-3C0F-KNJE   \n",
       "\n",
       "                                           description  quantity item_total  \\\n",
       "0    100% Leather Elephant Shaped Piggy Coin Bank |...         1     449.00   \n",
       "1    Women's Set of 5 Multicolor Pure Leather Singl...         1     449.00   \n",
       "2    Women's Set of 5 Multicolor Pure Leather Singl...         1     449.00   \n",
       "3    Pure 100% Leather Block Print Rectangular Jewe...         1         an   \n",
       "4    Pure Leather Sling Bag with Multiple Pockets a...         1    1099.00   \n",
       "..                                                 ...       ...        ...   \n",
       "166  Women's Set of 5 Multicolor Pure Leather Singl...         3    1347.00   \n",
       "167  Traditional Block-Printed Women's 100% Pure Le...         1    1299.00   \n",
       "168  Traditional Block-Printed Women's 100% Pure Le...         1    1299.00   \n",
       "169  Stylish and Sleek Multiple Pockets 100 Percent...         1    1499.00   \n",
       "170  100% Leather Elephant Shaped Piggy Coin Bank |...         1     449.00   \n",
       "\n",
       "    shipping_fee  cod        order_status  \n",
       "0             an    0  Delivered to buyer  \n",
       "1          60.18    0  Delivered to buyer  \n",
       "2          60.18    0  Delivered to buyer  \n",
       "3             an    1  Delivered to buyer  \n",
       "4          84.96    0  Delivered to buyer  \n",
       "..           ...  ...                 ...  \n",
       "166        84.96    1  Delivered to buyer  \n",
       "167       114.46    0  Delivered to buyer  \n",
       "168       105.02    0  Delivered to buyer  \n",
       "169        80.24    1  Delivered to buyer  \n",
       "170        84.96    0  Delivered to buyer  \n",
       "\n",
       "[171 rows x 11 columns]"
      ]
     },
     "execution_count": 12,
     "metadata": {},
     "output_type": "execute_result"
    }
   ],
   "source": [
    "data"
   ]
  },
  {
   "cell_type": "code",
   "execution_count": 13,
   "id": "8adf085e",
   "metadata": {},
   "outputs": [
    {
     "data": {
      "text/plain": [
       "0"
      ]
     },
     "execution_count": 13,
     "metadata": {},
     "output_type": "execute_result"
    }
   ],
   "source": [
    "data['item_total'].isna().sum()"
   ]
  },
  {
   "cell_type": "code",
   "execution_count": 14,
   "id": "25616886",
   "metadata": {},
   "outputs": [
    {
     "data": {
      "text/plain": [
       "449.00     52\n",
       "399.00     36\n",
       "an         18\n",
       "549.00     11\n",
       "349.00      8\n",
       "250.00      7\n",
       "1299.00     7\n",
       "1099.00     7\n",
       "649.00      5\n",
       "475.00      5\n",
       "175.00      4\n",
       "1347.00     2\n",
       "3897.00     2\n",
       "1499.00     2\n",
       "200.00      1\n",
       "898.00      1\n",
       "499.00      1\n",
       "899.00      1\n",
       "1796.00     1\n",
       "Name: item_total, dtype: int64"
      ]
     },
     "execution_count": 14,
     "metadata": {},
     "output_type": "execute_result"
    }
   ],
   "source": [
    "data['item_total'].value_counts()"
   ]
  },
  {
   "cell_type": "code",
   "execution_count": 15,
   "id": "ca25a012",
   "metadata": {},
   "outputs": [],
   "source": [
    "data['item_total'].replace({'an':0}, inplace=True)"
   ]
  },
  {
   "cell_type": "code",
   "execution_count": 16,
   "id": "827c06f8",
   "metadata": {},
   "outputs": [
    {
     "data": {
      "text/plain": [
       "449.00     52\n",
       "399.00     36\n",
       "0          18\n",
       "549.00     11\n",
       "349.00      8\n",
       "250.00      7\n",
       "1299.00     7\n",
       "1099.00     7\n",
       "649.00      5\n",
       "475.00      5\n",
       "175.00      4\n",
       "1347.00     2\n",
       "3897.00     2\n",
       "1499.00     2\n",
       "200.00      1\n",
       "898.00      1\n",
       "499.00      1\n",
       "899.00      1\n",
       "1796.00     1\n",
       "Name: item_total, dtype: int64"
      ]
     },
     "execution_count": 16,
     "metadata": {},
     "output_type": "execute_result"
    }
   ],
   "source": [
    "data['item_total'].value_counts()"
   ]
  },
  {
   "cell_type": "code",
   "execution_count": 17,
   "id": "332e4a04",
   "metadata": {},
   "outputs": [
    {
     "name": "stdout",
     "output_type": "stream",
     "text": [
      "<class 'pandas.core.frame.DataFrame'>\n",
      "RangeIndex: 171 entries, 0 to 170\n",
      "Data columns (total 11 columns):\n",
      " #   Column        Non-Null Count  Dtype \n",
      "---  ------        --------------  ----- \n",
      " 0   order_date    171 non-null    object\n",
      " 1   buyer         171 non-null    object\n",
      " 2   ship_city     171 non-null    object\n",
      " 3   ship_state    171 non-null    object\n",
      " 4   sku           171 non-null    object\n",
      " 5   description   171 non-null    object\n",
      " 6   quantity      171 non-null    int64 \n",
      " 7   item_total    171 non-null    object\n",
      " 8   shipping_fee  171 non-null    object\n",
      " 9   cod           171 non-null    int64 \n",
      " 10  order_status  171 non-null    object\n",
      "dtypes: int64(2), object(9)\n",
      "memory usage: 14.8+ KB\n"
     ]
    }
   ],
   "source": [
    "data.info()"
   ]
  },
  {
   "cell_type": "code",
   "execution_count": 18,
   "id": "34b803d1",
   "metadata": {},
   "outputs": [
    {
     "data": {
      "text/plain": [
       "0"
      ]
     },
     "execution_count": 18,
     "metadata": {},
     "output_type": "execute_result"
    }
   ],
   "source": [
    "data['shipping_fee'].isna().sum()"
   ]
  },
  {
   "cell_type": "code",
   "execution_count": 19,
   "id": "67282298",
   "metadata": {},
   "outputs": [],
   "source": [
    "data['shipping_fee'].replace({'an':0}, inplace=True)"
   ]
  },
  {
   "cell_type": "code",
   "execution_count": 20,
   "id": "a001e56c",
   "metadata": {},
   "outputs": [],
   "source": [
    "data[\"item_total\"] = data[\"item_total\"].astype(\"float64\")"
   ]
  },
  {
   "cell_type": "code",
   "execution_count": 21,
   "id": "84713ec5",
   "metadata": {},
   "outputs": [],
   "source": [
    "data[\"shipping_fee\"] = data[\"shipping_fee\"].astype(\"float64\")"
   ]
  },
  {
   "cell_type": "code",
   "execution_count": 22,
   "id": "9db18bd1",
   "metadata": {},
   "outputs": [
    {
     "data": {
      "text/plain": [
       "<AxesSubplot:>"
      ]
     },
     "execution_count": 22,
     "metadata": {},
     "output_type": "execute_result"
    },
    {
     "data": {
      "image/png": "[encoded data removed]",
      "text/plain": [
       "<Figure size 1800x720 with 2 Axes>"
      ]
     },
     "metadata": {
      "needs_background": "light"
     },
     "output_type": "display_data"
    }
   ],
   "source": [
    "msno.matrix(data)"
   ]
  },
  {
   "cell_type": "code",
   "execution_count": 23,
   "id": "4af3db17",
   "metadata": {},
   "outputs": [
    {
     "name": "stdout",
     "output_type": "stream",
     "text": [
      "<class 'pandas.core.frame.DataFrame'>\n",
      "RangeIndex: 171 entries, 0 to 170\n",
      "Data columns (total 11 columns):\n",
      " #   Column        Non-Null Count  Dtype  \n",
      "---  ------        --------------  -----  \n",
      " 0   order_date    171 non-null    object \n",
      " 1   buyer         171 non-null    object \n",
      " 2   ship_city     171 non-null    object \n",
      " 3   ship_state    171 non-null    object \n",
      " 4   sku           171 non-null    object \n",
      " 5   description   171 non-null    object \n",
      " 6   quantity      171 non-null    int64  \n",
      " 7   item_total    171 non-null    float64\n",
      " 8   shipping_fee  171 non-null    float64\n",
      " 9   cod           171 non-null    int64  \n",
      " 10  order_status  171 non-null    object \n",
      "dtypes: float64(2), int64(2), object(7)\n",
      "memory usage: 14.8+ KB\n"
     ]
    }
   ],
   "source": [
    "data.info()"
   ]
  },
  {
   "cell_type": "markdown",
   "id": "6d8c0473",
   "metadata": {},
   "source": [
    "## Data Description\n",
    "\n",
    "- order_no - Unique Amazon Order Number\n",
    "- order_date - Date on which the order was placed\n",
    "- buyer - Name of the buyer\n",
    "- ship_city - Delivery Address City\n",
    "- ship_state - Delivery Address State\n",
    "- sku - Unique identifier of a product\n",
    "- description - Product description\n",
    "- quantity - Number of units ordered\n",
    "- item_total - Total amount paid by the buyer\n",
    "- shipping_fee - Charges borne by Boss Leathers to ship the item\n",
    "- cod - Mode of payment: Cash on delivery or not"
   ]
  },
  {
   "cell_type": "code",
   "execution_count": 24,
   "id": "ed97b2d6",
   "metadata": {},
   "outputs": [
    {
     "data": {
      "text/plain": [
       "<BarContainer object of 10 artists>"
      ]
     },
     "execution_count": 24,
     "metadata": {},
     "output_type": "execute_result"
    },
    {
     "data": {
      "image/png": "[encoded data removed]",
      "text/plain": [
       "<Figure size 432x288 with 1 Axes>"
      ]
     },
     "metadata": {
      "needs_background": "light"
     },
     "output_type": "display_data"
    }
   ],
   "source": [
    "pyplot.barh(data.ship_city.value_counts()[:10].index ,data.ship_city.value_counts()[:10].values )"
   ]
  },
  {
   "cell_type": "code",
   "execution_count": 25,
   "id": "d612dad3",
   "metadata": {},
   "outputs": [
    {
     "data": {
      "text/plain": [
       "<AxesSubplot:xlabel='count', ylabel='ship_state'>"
      ]
     },
     "execution_count": 25,
     "metadata": {},
     "output_type": "execute_result"
    },
    {
     "data": {
      "image/png": "[encoded data removed]",
      "text/plain": [
       "<Figure size 432x288 with 1 Axes>"
      ]
     },
     "metadata": {
      "needs_background": "light"
     },
     "output_type": "display_data"
    }
   ],
   "source": [
    "sns.countplot(data = data, y = 'ship_state')"
   ]
  },
  {
   "cell_type": "code",
   "execution_count": 28,
   "id": "cd103d53",
   "metadata": {},
   "outputs": [
    {
     "data": {
      "text/plain": [
       "<AxesSubplot:xlabel='count', ylabel='ship_city'>"
      ]
     },
     "execution_count": 28,
     "metadata": {},
     "output_type": "execute_result"
    },
    {
     "data": {
      "image/png": "[encoded data removed]",
      "text/plain": [
       "<Figure size 432x288 with 1 Axes>"
      ]
     },
     "metadata": {
      "needs_background": "light"
     },
     "output_type": "display_data"
    }
   ],
   "source": [
    "sns.countplot(data = data , y = \"ship_city\")"
   ]
  },
  {
   "cell_type": "code",
   "execution_count": 31,
   "id": "1bcea6db",
   "metadata": {},
   "outputs": [
    {
     "data": {
      "text/plain": [
       "<BarContainer object of 4 artists>"
      ]
     },
     "execution_count": 31,
     "metadata": {},
     "output_type": "execute_result"
    },
    {
     "data": {
      "image/png": "[encoded data removed]",
      "text/plain": [
       "<Figure size 432x288 with 1 Axes>"
      ]
     },
     "metadata": {
      "needs_background": "light"
     },
     "output_type": "display_data"
    }
   ],
   "source": [
    "pyplot.barh(data.quantity.value_counts()[:10].index ,data.quantity.value_counts()[:10].values )"
   ]
  },
  {
   "cell_type": "code",
   "execution_count": 32,
   "id": "10994ae7",
   "metadata": {},
   "outputs": [
    {
     "data": {
      "text/plain": [
       "<AxesSubplot:>"
      ]
     },
     "execution_count": 32,
     "metadata": {},
     "output_type": "execute_result"
    },
    {
     "data": {
      "image/png": "[encoded data removed]",
      "text/plain": [
       "<Figure size 432x288 with 1 Axes>"
      ]
     },
     "metadata": {
      "needs_background": "light"
     },
     "output_type": "display_data"
    }
   ],
   "source": [
    "data.shipping_fee.hist(bins = 20)"
   ]
  },
  {
   "cell_type": "code",
   "execution_count": 33,
   "id": "9312e7a1",
   "metadata": {},
   "outputs": [
    {
     "data": {
      "text/plain": [
       "<AxesSubplot:xlabel='count', ylabel='cod'>"
      ]
     },
     "execution_count": 33,
     "metadata": {},
     "output_type": "execute_result"
    },
    {
     "data": {
      "image/png": "[encoded data removed]",
      "text/plain": [
       "<Figure size 432x288 with 1 Axes>"
      ]
     },
     "metadata": {
      "needs_background": "light"
     },
     "output_type": "display_data"
    }
   ],
   "source": [
    "sns.countplot(data = data , y ='cod')"
   ]
  },
  {
   "cell_type": "code",
   "execution_count": 34,
   "id": "8ef49ec6",
   "metadata": {},
   "outputs": [
    {
     "data": {
      "text/plain": [
       "<AxesSubplot:xlabel='count', ylabel='order_status'>"
      ]
     },
     "execution_count": 34,
     "metadata": {},
     "output_type": "execute_result"
    },
    {
     "data": {
      "image/png": "[encoded data removed]",
      "text/plain": [
       "<Figure size 432x288 with 1 Axes>"
      ]
     },
     "metadata": {
      "needs_background": "light"
     },
     "output_type": "display_data"
    }
   ],
   "source": [
    "sns.countplot( data = data , y = 'order_status')"
   ]
  },
  {
   "cell_type": "code",
   "execution_count": 35,
   "id": "8097fef7",
   "metadata": {},
   "outputs": [
    {
     "data": {
      "text/plain": [
       "<AxesSubplot:xlabel='count', ylabel='order_status'>"
      ]
     },
     "execution_count": 35,
     "metadata": {},
     "output_type": "execute_result"
    },
    {
     "data": {
      "image/png": "[encoded data removed]",
      "text/plain": [
       "<Figure size 432x288 with 1 Axes>"
      ]
     },
     "metadata": {
      "needs_background": "light"
     },
     "output_type": "display_data"
    }
   ],
   "source": [
    "sns.countplot( data = data , y = 'order_status' , hue = 'cod')"
   ]
  },
  {
   "cell_type": "code",
   "execution_count": 39,
   "id": "e20848d8",
   "metadata": {},
   "outputs": [
    {
     "data": {
      "text/plain": [
       "Delivered to buyer    160\n",
       "Returned to seller     11\n",
       "Name: order_status, dtype: int64"
      ]
     },
     "execution_count": 39,
     "metadata": {},
     "output_type": "execute_result"
    }
   ],
   "source": [
    "data['order_status'].value_counts()\n",
    "\n",
    "#data['item_total'].replace({'':0}, inplace=True)"
   ]
  },
  {
   "cell_type": "code",
   "execution_count": 40,
   "id": "4d73b0d1",
   "metadata": {},
   "outputs": [],
   "source": [
    "data['order_status'].replace({'Delivered to buyer':1, 'Returned to seller':0}, inplace=True)"
   ]
  },
  {
   "cell_type": "code",
   "execution_count": 41,
   "id": "d2b6834f",
   "metadata": {},
   "outputs": [
    {
     "data": {
      "text/plain": [
       "1    160\n",
       "0     11\n",
       "Name: order_status, dtype: int64"
      ]
     },
     "execution_count": 41,
     "metadata": {},
     "output_type": "execute_result"
    }
   ],
   "source": [
    "data['order_status'].value_counts()"
   ]
  },
  {
   "cell_type": "code",
   "execution_count": 42,
   "id": "d9ec3e22",
   "metadata": {},
   "outputs": [
    {
     "name": "stdout",
     "output_type": "stream",
     "text": [
      "<class 'pandas.core.frame.DataFrame'>\n",
      "RangeIndex: 171 entries, 0 to 170\n",
      "Data columns (total 11 columns):\n",
      " #   Column        Non-Null Count  Dtype  \n",
      "---  ------        --------------  -----  \n",
      " 0   order_date    171 non-null    object \n",
      " 1   buyer         171 non-null    object \n",
      " 2   ship_city     171 non-null    object \n",
      " 3   ship_state    171 non-null    object \n",
      " 4   sku           171 non-null    object \n",
      " 5   description   171 non-null    object \n",
      " 6   quantity      171 non-null    int64  \n",
      " 7   item_total    171 non-null    float64\n",
      " 8   shipping_fee  171 non-null    float64\n",
      " 9   cod           171 non-null    int64  \n",
      " 10  order_status  171 non-null    int64  \n",
      "dtypes: float64(2), int64(3), object(6)\n",
      "memory usage: 14.8+ KB\n"
     ]
    }
   ],
   "source": [
    "data.info()"
   ]
  },
  {
   "cell_type": "code",
   "execution_count": 43,
   "id": "7c6a506f",
   "metadata": {},
   "outputs": [
    {
     "data": {
      "text/plain": [
       "0      100% Leather Elephant Shaped Piggy Coin Bank |...\n",
       "1      Women's Set of 5 Multicolor Pure Leather Singl...\n",
       "2      Women's Set of 5 Multicolor Pure Leather Singl...\n",
       "3      Pure 100% Leather Block Print Rectangular Jewe...\n",
       "4      Pure Leather Sling Bag with Multiple Pockets a...\n",
       "                             ...                        \n",
       "166    Women's Set of 5 Multicolor Pure Leather Singl...\n",
       "167    Traditional Block-Printed Women's 100% Pure Le...\n",
       "168    Traditional Block-Printed Women's 100% Pure Le...\n",
       "169    Stylish and Sleek Multiple Pockets 100 Percent...\n",
       "170    100% Leather Elephant Shaped Piggy Coin Bank |...\n",
       "Name: description, Length: 171, dtype: object"
      ]
     },
     "execution_count": 43,
     "metadata": {},
     "output_type": "execute_result"
    }
   ],
   "source": [
    "data.pop('order_date')\n",
    "data.pop('buyer')\n",
    "data.pop('sku')\n",
    "data.pop('description')"
   ]
  },
  {
   "cell_type": "code",
   "execution_count": 44,
   "id": "eaf5ddf9",
   "metadata": {},
   "outputs": [
    {
     "name": "stdout",
     "output_type": "stream",
     "text": [
      "<class 'pandas.core.frame.DataFrame'>\n",
      "RangeIndex: 171 entries, 0 to 170\n",
      "Data columns (total 7 columns):\n",
      " #   Column        Non-Null Count  Dtype  \n",
      "---  ------        --------------  -----  \n",
      " 0   ship_city     171 non-null    object \n",
      " 1   ship_state    171 non-null    object \n",
      " 2   quantity      171 non-null    int64  \n",
      " 3   item_total    171 non-null    float64\n",
      " 4   shipping_fee  171 non-null    float64\n",
      " 5   cod           171 non-null    int64  \n",
      " 6   order_status  171 non-null    int64  \n",
      "dtypes: float64(2), int64(3), object(2)\n",
      "memory usage: 9.5+ KB\n"
     ]
    }
   ],
   "source": [
    "data.info()"
   ]
  },
  {
   "cell_type": "code",
   "execution_count": 45,
   "id": "6a94ba79",
   "metadata": {},
   "outputs": [],
   "source": [
    "from sklearn.model_selection import GridSearchCV"
   ]
  },
  {
   "cell_type": "code",
   "execution_count": 46,
   "id": "2b96ef04",
   "metadata": {},
   "outputs": [],
   "source": [
    "features_interest = ['ship_city', 'ship_state' , 'quantity', 'item_total', 'shipping_fee', 'cod',\n",
    "       'order_status']"
   ]
  },
  {
   "cell_type": "code",
   "execution_count": 51,
   "id": "dc46bc9c",
   "metadata": {},
   "outputs": [],
   "source": [
    "data_ml = data[features_interest]\n",
    "x = data_ml[features_interest[:-1]]\n",
    "y = data_ml[features_interest[-1]]"
   ]
  },
  {
   "cell_type": "code",
   "execution_count": 52,
   "id": "23e8bbfb",
   "metadata": {},
   "outputs": [
    {
     "data": {
      "text/html": [
       "<div>\n",
       "<style scoped>\n",
       "    .dataframe tbody tr th:only-of-type {\n",
       "        vertical-align: middle;\n",
       "    }\n",
       "\n",
       "    .dataframe tbody tr th {\n",
       "        vertical-align: top;\n",
       "    }\n",
       "\n",
       "    .dataframe thead th {\n",
       "        text-align: right;\n",
       "    }\n",
       "</style>\n",
       "<table border=\"1\" class=\"dataframe\">\n",
       "  <thead>\n",
       "    <tr style=\"text-align: right;\">\n",
       "      <th></th>\n",
       "      <th>model</th>\n",
       "      <th>best_score</th>\n",
       "      <th>best_params</th>\n",
       "    </tr>\n",
       "  </thead>\n",
       "  <tbody>\n",
       "    <tr>\n",
       "      <th>0</th>\n",
       "      <td>svm</td>\n",
       "      <td>0.935798</td>\n",
       "      <td>{'C': 1, 'kernel': 'linear'}</td>\n",
       "    </tr>\n",
       "    <tr>\n",
       "      <th>1</th>\n",
       "      <td>random_forest</td>\n",
       "      <td>0.941513</td>\n",
       "      <td>{'n_estimators': 5}</td>\n",
       "    </tr>\n",
       "    <tr>\n",
       "      <th>2</th>\n",
       "      <td>logistic_regression</td>\n",
       "      <td>0.953277</td>\n",
       "      <td>{'C': 5}</td>\n",
       "    </tr>\n",
       "  </tbody>\n",
       "</table>\n",
       "</div>"
      ],
      "text/plain": [
       "                 model  best_score                   best_params\n",
       "0                  svm    0.935798  {'C': 1, 'kernel': 'linear'}\n",
       "1        random_forest    0.941513           {'n_estimators': 5}\n",
       "2  logistic_regression    0.953277                      {'C': 5}"
      ]
     },
     "execution_count": 52,
     "metadata": {},
     "output_type": "execute_result"
    }
   ],
   "source": [
    "model_params = {\n",
    "    'svm': {\n",
    "        'model': svm.SVC(gamma='auto'),\n",
    "        'params' : {\n",
    "            'C': [1,10,20],\n",
    "            'kernel': ['rbf','linear']\n",
    "        }  \n",
    "    },\n",
    "    'random_forest': {\n",
    "        'model': RandomForestClassifier(),\n",
    "        'params' : {\n",
    "            'n_estimators': [1,5,10,20,25]\n",
    "        }\n",
    "    },\n",
    "    'logistic_regression' : {\n",
    "        'model': LogisticRegression(solver='liblinear',multi_class='auto'),\n",
    "        'params': {\n",
    "            'C': [1,5,10]\n",
    "        }\n",
    "    }\n",
    "}\n",
    "scores = []\n",
    "\n",
    "for model_name, mp in model_params.items():\n",
    "    clf =  GridSearchCV(mp['model'], mp['params'], cv=5, return_train_score=False)\n",
    "    clf.fit(pd.get_dummies(x), y)\n",
    "    scores.append({\n",
    "        'model': model_name,\n",
    "        'best_score': clf.best_score_,\n",
    "        'best_params': clf.best_params_\n",
    "    })\n",
    "    \n",
    "df_results = pd.DataFrame(scores,columns=['model','best_score','best_params'])\n",
    "df_results"
   ]
  },
  {
   "cell_type": "code",
   "execution_count": null,
   "id": "7de8d036",
   "metadata": {},
   "outputs": [],
   "source": []
  }
 ],
 "metadata": {
  "kernelspec": {
   "display_name": "order",
   "language": "python",
   "name": "order"
  },
  "language_info": {
   "codemirror_mode": {
    "name": "ipython",
    "version": 3
   },
   "file_extension": ".py",
   "mimetype": "text/x-python",
   "name": "python",
   "nbconvert_exporter": "python",
   "pygments_lexer": "ipython3",
   "version": "3.10.2"
  }
 },
 "nbformat": 4,
 "nbformat_minor": 5
}
