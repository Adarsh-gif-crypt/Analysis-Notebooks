{
  "nbformat": 4,
  "nbformat_minor": 0,
  "metadata": {
    "colab": {
      "provenance": [],
      "collapsed_sections": []
    },
    "kernelspec": {
      "name": "python3",
      "display_name": "Python 3"
    },
    "language_info": {
      "name": "python"
    },
    "accelerator": "GPU"
  },
  "cells": [
    {
      "cell_type": "code",
      "source": [
        "!pip install yfinance"
      ],
      "metadata": {
        "colab": {
          "base_uri": "https://localhost:8080/"
        },
        "id": "95Ur6tjq-GTf",
        "outputId": "c56392b0-0de1-464e-db3f-a78c3c32794e"
      },
      "execution_count": 3,
      "outputs": [
        {
          "output_type": "stream",
          "name": "stdout",
          "text": [
            "Looking in indexes: https://pypi.org/simple, https://us-python.pkg.dev/colab-wheels/public/simple/\n",
            "Requirement already satisfied: yfinance in /usr/local/lib/python3.7/dist-packages (0.1.84)\n",
            "Requirement already satisfied: lxml>=4.5.1 in /usr/local/lib/python3.7/dist-packages (from yfinance) (4.9.1)\n",
            "Requirement already satisfied: appdirs>=1.4.4 in /usr/local/lib/python3.7/dist-packages (from yfinance) (1.4.4)\n",
            "Requirement already satisfied: numpy>=1.15 in /usr/local/lib/python3.7/dist-packages (from yfinance) (1.21.6)\n",
            "Requirement already satisfied: multitasking>=0.0.7 in /usr/local/lib/python3.7/dist-packages (from yfinance) (0.0.11)\n",
            "Requirement already satisfied: pandas>=0.24.0 in /usr/local/lib/python3.7/dist-packages (from yfinance) (1.3.5)\n",
            "Requirement already satisfied: requests>=2.26 in /usr/local/lib/python3.7/dist-packages (from yfinance) (2.28.1)\n",
            "Requirement already satisfied: python-dateutil>=2.7.3 in /usr/local/lib/python3.7/dist-packages (from pandas>=0.24.0->yfinance) (2.8.2)\n",
            "Requirement already satisfied: pytz>=2017.3 in /usr/local/lib/python3.7/dist-packages (from pandas>=0.24.0->yfinance) (2022.5)\n",
            "Requirement already satisfied: six>=1.5 in /usr/local/lib/python3.7/dist-packages (from python-dateutil>=2.7.3->pandas>=0.24.0->yfinance) (1.15.0)\n",
            "Requirement already satisfied: urllib3<1.27,>=1.21.1 in /usr/local/lib/python3.7/dist-packages (from requests>=2.26->yfinance) (1.24.3)\n",
            "Requirement already satisfied: idna<4,>=2.5 in /usr/local/lib/python3.7/dist-packages (from requests>=2.26->yfinance) (2.10)\n",
            "Requirement already satisfied: certifi>=2017.4.17 in /usr/local/lib/python3.7/dist-packages (from requests>=2.26->yfinance) (2022.9.24)\n",
            "Requirement already satisfied: charset-normalizer<3,>=2 in /usr/local/lib/python3.7/dist-packages (from requests>=2.26->yfinance) (2.1.1)\n"
          ]
        }
      ]
    },
    {
      "cell_type": "code",
      "source": [
        "import numpy as np\n",
        "import pandas as pd\n",
        "\n",
        "import yfinance as yf\n",
        "\n",
        "import tensorflow as tf\n",
        "\n",
        "import datetime as dt\n",
        " \n",
        "from sklearn.model_selection import train_test_split\n",
        "\n",
        "from sklearn.preprocessing import StandardScaler\n",
        "from sklearn.preprocessing import MinMaxScaler \n",
        "\n",
        "from sklearn.metrics import r2_score, mean_absolute_error, mean_squared_error\n",
        "\n",
        "from sklearn.metrics import confusion_matrix\n",
        "\n",
        "from matplotlib import pyplot as plt\n",
        "import seaborn as sns"
      ],
      "metadata": {
        "id": "oK0-rqo-tk3v"
      },
      "execution_count": 68,
      "outputs": []
    },
    {
      "cell_type": "code",
      "source": [
        "start = dt.datetime(2015,1,1)\n",
        "today = dt.datetime(2021,12,31)\n",
        "def load_data(ticker):\n",
        "    data = yf.download(ticker, start, today)\n",
        "    data.reset_index(inplace=True)\n",
        "    return data"
      ],
      "metadata": {
        "id": "BctVoDb7wK2a"
      },
      "execution_count": 5,
      "outputs": []
    },
    {
      "cell_type": "code",
      "source": [
        "df = load_data('MSFT')"
      ],
      "metadata": {
        "colab": {
          "base_uri": "https://localhost:8080/"
        },
        "id": "Htpqykvew2B9",
        "outputId": "e13e6bc5-deeb-477a-8927-4f3d0000de86"
      },
      "execution_count": 6,
      "outputs": [
        {
          "output_type": "stream",
          "name": "stdout",
          "text": [
            "\r[*********************100%***********************]  1 of 1 completed\n"
          ]
        }
      ]
    },
    {
      "cell_type": "code",
      "source": [
        "df.head()"
      ],
      "metadata": {
        "colab": {
          "base_uri": "https://localhost:8080/",
          "height": 206
        },
        "id": "gqVLQ13nyAoT",
        "outputId": "b1eb75ef-890e-4569-c1bb-4d09fa3b7b15"
      },
      "execution_count": 7,
      "outputs": [
        {
          "output_type": "execute_result",
          "data": {
            "text/plain": [
              "        Date       Open       High        Low      Close  Adj Close    Volume\n",
              "0 2015-01-02  46.660000  47.419998  46.540001  46.759998  40.926445  27913900\n",
              "1 2015-01-05  46.369999  46.730000  46.250000  46.330002  40.550083  39673900\n",
              "2 2015-01-06  46.380001  46.750000  45.540001  45.650002  39.954929  36447900\n",
              "3 2015-01-07  45.980000  46.459999  45.490002  46.230000  40.462555  29114100\n",
              "4 2015-01-08  46.750000  47.750000  46.720001  47.590000  41.652897  29645200"
            ],
            "text/html": [
              "\n",
              "  <div id=\"df-79361725-45ac-4aa6-98c0-e8314955a8a4\">\n",
              "    <div class=\"colab-df-container\">\n",
              "      <div>\n",
              "<style scoped>\n",
              "    .dataframe tbody tr th:only-of-type {\n",
              "        vertical-align: middle;\n",
              "    }\n",
              "\n",
              "    .dataframe tbody tr th {\n",
              "        vertical-align: top;\n",
              "    }\n",
              "\n",
              "    .dataframe thead th {\n",
              "        text-align: right;\n",
              "    }\n",
              "</style>\n",
              "<table border=\"1\" class=\"dataframe\">\n",
              "  <thead>\n",
              "    <tr style=\"text-align: right;\">\n",
              "      <th></th>\n",
              "      <th>Date</th>\n",
              "      <th>Open</th>\n",
              "      <th>High</th>\n",
              "      <th>Low</th>\n",
              "      <th>Close</th>\n",
              "      <th>Adj Close</th>\n",
              "      <th>Volume</th>\n",
              "    </tr>\n",
              "  </thead>\n",
              "  <tbody>\n",
              "    <tr>\n",
              "      <th>0</th>\n",
              "      <td>2015-01-02</td>\n",
              "      <td>46.660000</td>\n",
              "      <td>47.419998</td>\n",
              "      <td>46.540001</td>\n",
              "      <td>46.759998</td>\n",
              "      <td>40.926445</td>\n",
              "      <td>27913900</td>\n",
              "    </tr>\n",
              "    <tr>\n",
              "      <th>1</th>\n",
              "      <td>2015-01-05</td>\n",
              "      <td>46.369999</td>\n",
              "      <td>46.730000</td>\n",
              "      <td>46.250000</td>\n",
              "      <td>46.330002</td>\n",
              "      <td>40.550083</td>\n",
              "      <td>39673900</td>\n",
              "    </tr>\n",
              "    <tr>\n",
              "      <th>2</th>\n",
              "      <td>2015-01-06</td>\n",
              "      <td>46.380001</td>\n",
              "      <td>46.750000</td>\n",
              "      <td>45.540001</td>\n",
              "      <td>45.650002</td>\n",
              "      <td>39.954929</td>\n",
              "      <td>36447900</td>\n",
              "    </tr>\n",
              "    <tr>\n",
              "      <th>3</th>\n",
              "      <td>2015-01-07</td>\n",
              "      <td>45.980000</td>\n",
              "      <td>46.459999</td>\n",
              "      <td>45.490002</td>\n",
              "      <td>46.230000</td>\n",
              "      <td>40.462555</td>\n",
              "      <td>29114100</td>\n",
              "    </tr>\n",
              "    <tr>\n",
              "      <th>4</th>\n",
              "      <td>2015-01-08</td>\n",
              "      <td>46.750000</td>\n",
              "      <td>47.750000</td>\n",
              "      <td>46.720001</td>\n",
              "      <td>47.590000</td>\n",
              "      <td>41.652897</td>\n",
              "      <td>29645200</td>\n",
              "    </tr>\n",
              "  </tbody>\n",
              "</table>\n",
              "</div>\n",
              "      <button class=\"colab-df-convert\" onclick=\"convertToInteractive('df-79361725-45ac-4aa6-98c0-e8314955a8a4')\"\n",
              "              title=\"Convert this dataframe to an interactive table.\"\n",
              "              style=\"display:none;\">\n",
              "        \n",
              "  <svg xmlns=\"http://www.w3.org/2000/svg\" height=\"24px\"viewBox=\"0 0 24 24\"\n",
              "       width=\"24px\">\n",
              "    <path d=\"M0 0h24v24H0V0z\" fill=\"none\"/>\n",
              "    <path d=\"M18.56 5.44l.94 2.06.94-2.06 2.06-.94-2.06-.94-.94-2.06-.94 2.06-2.06.94zm-11 1L8.5 8.5l.94-2.06 2.06-.94-2.06-.94L8.5 2.5l-.94 2.06-2.06.94zm10 10l.94 2.06.94-2.06 2.06-.94-2.06-.94-.94-2.06-.94 2.06-2.06.94z\"/><path d=\"M17.41 7.96l-1.37-1.37c-.4-.4-.92-.59-1.43-.59-.52 0-1.04.2-1.43.59L10.3 9.45l-7.72 7.72c-.78.78-.78 2.05 0 2.83L4 21.41c.39.39.9.59 1.41.59.51 0 1.02-.2 1.41-.59l7.78-7.78 2.81-2.81c.8-.78.8-2.07 0-2.86zM5.41 20L4 18.59l7.72-7.72 1.47 1.35L5.41 20z\"/>\n",
              "  </svg>\n",
              "      </button>\n",
              "      \n",
              "  <style>\n",
              "    .colab-df-container {\n",
              "      display:flex;\n",
              "      flex-wrap:wrap;\n",
              "      gap: 12px;\n",
              "    }\n",
              "\n",
              "    .colab-df-convert {\n",
              "      background-color: #E8F0FE;\n",
              "      border: none;\n",
              "      border-radius: 50%;\n",
              "      cursor: pointer;\n",
              "      display: none;\n",
              "      fill: #1967D2;\n",
              "      height: 32px;\n",
              "      padding: 0 0 0 0;\n",
              "      width: 32px;\n",
              "    }\n",
              "\n",
              "    .colab-df-convert:hover {\n",
              "      background-color: #E2EBFA;\n",
              "      box-shadow: 0px 1px 2px rgba(60, 64, 67, 0.3), 0px 1px 3px 1px rgba(60, 64, 67, 0.15);\n",
              "      fill: #174EA6;\n",
              "    }\n",
              "\n",
              "    [theme=dark] .colab-df-convert {\n",
              "      background-color: #3B4455;\n",
              "      fill: #D2E3FC;\n",
              "    }\n",
              "\n",
              "    [theme=dark] .colab-df-convert:hover {\n",
              "      background-color: #434B5C;\n",
              "      box-shadow: 0px 1px 3px 1px rgba(0, 0, 0, 0.15);\n",
              "      filter: drop-shadow(0px 1px 2px rgba(0, 0, 0, 0.3));\n",
              "      fill: #FFFFFF;\n",
              "    }\n",
              "  </style>\n",
              "\n",
              "      <script>\n",
              "        const buttonEl =\n",
              "          document.querySelector('#df-79361725-45ac-4aa6-98c0-e8314955a8a4 button.colab-df-convert');\n",
              "        buttonEl.style.display =\n",
              "          google.colab.kernel.accessAllowed ? 'block' : 'none';\n",
              "\n",
              "        async function convertToInteractive(key) {\n",
              "          const element = document.querySelector('#df-79361725-45ac-4aa6-98c0-e8314955a8a4');\n",
              "          const dataTable =\n",
              "            await google.colab.kernel.invokeFunction('convertToInteractive',\n",
              "                                                     [key], {});\n",
              "          if (!dataTable) return;\n",
              "\n",
              "          const docLinkHtml = 'Like what you see? Visit the ' +\n",
              "            '<a target=\"_blank\" href=https://colab.research.google.com/notebooks/data_table.ipynb>data table notebook</a>'\n",
              "            + ' to learn more about interactive tables.';\n",
              "          element.innerHTML = '';\n",
              "          dataTable['output_type'] = 'display_data';\n",
              "          await google.colab.output.renderOutput(dataTable, element);\n",
              "          const docLink = document.createElement('div');\n",
              "          docLink.innerHTML = docLinkHtml;\n",
              "          element.appendChild(docLink);\n",
              "        }\n",
              "      </script>\n",
              "    </div>\n",
              "  </div>\n",
              "  "
            ]
          },
          "metadata": {},
          "execution_count": 7
        }
      ]
    },
    {
      "cell_type": "code",
      "source": [
        "df.tail()"
      ],
      "metadata": {
        "colab": {
          "base_uri": "https://localhost:8080/",
          "height": 206
        },
        "id": "QqWFtqrKyCi7",
        "outputId": "1562b7af-7cb9-4fa6-9da3-bda0f13b6be3"
      },
      "execution_count": 8,
      "outputs": [
        {
          "output_type": "execute_result",
          "data": {
            "text/plain": [
              "           Date        Open        High         Low       Close   Adj Close  \\\n",
              "1757 2021-12-23  332.750000  336.390015  332.730011  334.690002  332.517456   \n",
              "1758 2021-12-27  335.459991  342.480011  335.429993  342.450012  340.227112   \n",
              "1759 2021-12-28  343.149994  343.809998  340.320007  341.250000  339.034882   \n",
              "1760 2021-12-29  341.299988  344.299988  339.679993  341.950012  339.730377   \n",
              "1761 2021-12-30  341.910004  343.130005  338.820007  339.320007  337.117432   \n",
              "\n",
              "        Volume  \n",
              "1757  19617800  \n",
              "1758  19947000  \n",
              "1759  15661500  \n",
              "1760  15042000  \n",
              "1761  15994500  "
            ],
            "text/html": [
              "\n",
              "  <div id=\"df-6766fc34-fdf4-472f-9f34-79c3a798c12f\">\n",
              "    <div class=\"colab-df-container\">\n",
              "      <div>\n",
              "<style scoped>\n",
              "    .dataframe tbody tr th:only-of-type {\n",
              "        vertical-align: middle;\n",
              "    }\n",
              "\n",
              "    .dataframe tbody tr th {\n",
              "        vertical-align: top;\n",
              "    }\n",
              "\n",
              "    .dataframe thead th {\n",
              "        text-align: right;\n",
              "    }\n",
              "</style>\n",
              "<table border=\"1\" class=\"dataframe\">\n",
              "  <thead>\n",
              "    <tr style=\"text-align: right;\">\n",
              "      <th></th>\n",
              "      <th>Date</th>\n",
              "      <th>Open</th>\n",
              "      <th>High</th>\n",
              "      <th>Low</th>\n",
              "      <th>Close</th>\n",
              "      <th>Adj Close</th>\n",
              "      <th>Volume</th>\n",
              "    </tr>\n",
              "  </thead>\n",
              "  <tbody>\n",
              "    <tr>\n",
              "      <th>1757</th>\n",
              "      <td>2021-12-23</td>\n",
              "      <td>332.750000</td>\n",
              "      <td>336.390015</td>\n",
              "      <td>332.730011</td>\n",
              "      <td>334.690002</td>\n",
              "      <td>332.517456</td>\n",
              "      <td>19617800</td>\n",
              "    </tr>\n",
              "    <tr>\n",
              "      <th>1758</th>\n",
              "      <td>2021-12-27</td>\n",
              "      <td>335.459991</td>\n",
              "      <td>342.480011</td>\n",
              "      <td>335.429993</td>\n",
              "      <td>342.450012</td>\n",
              "      <td>340.227112</td>\n",
              "      <td>19947000</td>\n",
              "    </tr>\n",
              "    <tr>\n",
              "      <th>1759</th>\n",
              "      <td>2021-12-28</td>\n",
              "      <td>343.149994</td>\n",
              "      <td>343.809998</td>\n",
              "      <td>340.320007</td>\n",
              "      <td>341.250000</td>\n",
              "      <td>339.034882</td>\n",
              "      <td>15661500</td>\n",
              "    </tr>\n",
              "    <tr>\n",
              "      <th>1760</th>\n",
              "      <td>2021-12-29</td>\n",
              "      <td>341.299988</td>\n",
              "      <td>344.299988</td>\n",
              "      <td>339.679993</td>\n",
              "      <td>341.950012</td>\n",
              "      <td>339.730377</td>\n",
              "      <td>15042000</td>\n",
              "    </tr>\n",
              "    <tr>\n",
              "      <th>1761</th>\n",
              "      <td>2021-12-30</td>\n",
              "      <td>341.910004</td>\n",
              "      <td>343.130005</td>\n",
              "      <td>338.820007</td>\n",
              "      <td>339.320007</td>\n",
              "      <td>337.117432</td>\n",
              "      <td>15994500</td>\n",
              "    </tr>\n",
              "  </tbody>\n",
              "</table>\n",
              "</div>\n",
              "      <button class=\"colab-df-convert\" onclick=\"convertToInteractive('df-6766fc34-fdf4-472f-9f34-79c3a798c12f')\"\n",
              "              title=\"Convert this dataframe to an interactive table.\"\n",
              "              style=\"display:none;\">\n",
              "        \n",
              "  <svg xmlns=\"http://www.w3.org/2000/svg\" height=\"24px\"viewBox=\"0 0 24 24\"\n",
              "       width=\"24px\">\n",
              "    <path d=\"M0 0h24v24H0V0z\" fill=\"none\"/>\n",
              "    <path d=\"M18.56 5.44l.94 2.06.94-2.06 2.06-.94-2.06-.94-.94-2.06-.94 2.06-2.06.94zm-11 1L8.5 8.5l.94-2.06 2.06-.94-2.06-.94L8.5 2.5l-.94 2.06-2.06.94zm10 10l.94 2.06.94-2.06 2.06-.94-2.06-.94-.94-2.06-.94 2.06-2.06.94z\"/><path d=\"M17.41 7.96l-1.37-1.37c-.4-.4-.92-.59-1.43-.59-.52 0-1.04.2-1.43.59L10.3 9.45l-7.72 7.72c-.78.78-.78 2.05 0 2.83L4 21.41c.39.39.9.59 1.41.59.51 0 1.02-.2 1.41-.59l7.78-7.78 2.81-2.81c.8-.78.8-2.07 0-2.86zM5.41 20L4 18.59l7.72-7.72 1.47 1.35L5.41 20z\"/>\n",
              "  </svg>\n",
              "      </button>\n",
              "      \n",
              "  <style>\n",
              "    .colab-df-container {\n",
              "      display:flex;\n",
              "      flex-wrap:wrap;\n",
              "      gap: 12px;\n",
              "    }\n",
              "\n",
              "    .colab-df-convert {\n",
              "      background-color: #E8F0FE;\n",
              "      border: none;\n",
              "      border-radius: 50%;\n",
              "      cursor: pointer;\n",
              "      display: none;\n",
              "      fill: #1967D2;\n",
              "      height: 32px;\n",
              "      padding: 0 0 0 0;\n",
              "      width: 32px;\n",
              "    }\n",
              "\n",
              "    .colab-df-convert:hover {\n",
              "      background-color: #E2EBFA;\n",
              "      box-shadow: 0px 1px 2px rgba(60, 64, 67, 0.3), 0px 1px 3px 1px rgba(60, 64, 67, 0.15);\n",
              "      fill: #174EA6;\n",
              "    }\n",
              "\n",
              "    [theme=dark] .colab-df-convert {\n",
              "      background-color: #3B4455;\n",
              "      fill: #D2E3FC;\n",
              "    }\n",
              "\n",
              "    [theme=dark] .colab-df-convert:hover {\n",
              "      background-color: #434B5C;\n",
              "      box-shadow: 0px 1px 3px 1px rgba(0, 0, 0, 0.15);\n",
              "      filter: drop-shadow(0px 1px 2px rgba(0, 0, 0, 0.3));\n",
              "      fill: #FFFFFF;\n",
              "    }\n",
              "  </style>\n",
              "\n",
              "      <script>\n",
              "        const buttonEl =\n",
              "          document.querySelector('#df-6766fc34-fdf4-472f-9f34-79c3a798c12f button.colab-df-convert');\n",
              "        buttonEl.style.display =\n",
              "          google.colab.kernel.accessAllowed ? 'block' : 'none';\n",
              "\n",
              "        async function convertToInteractive(key) {\n",
              "          const element = document.querySelector('#df-6766fc34-fdf4-472f-9f34-79c3a798c12f');\n",
              "          const dataTable =\n",
              "            await google.colab.kernel.invokeFunction('convertToInteractive',\n",
              "                                                     [key], {});\n",
              "          if (!dataTable) return;\n",
              "\n",
              "          const docLinkHtml = 'Like what you see? Visit the ' +\n",
              "            '<a target=\"_blank\" href=https://colab.research.google.com/notebooks/data_table.ipynb>data table notebook</a>'\n",
              "            + ' to learn more about interactive tables.';\n",
              "          element.innerHTML = '';\n",
              "          dataTable['output_type'] = 'display_data';\n",
              "          await google.colab.output.renderOutput(dataTable, element);\n",
              "          const docLink = document.createElement('div');\n",
              "          docLink.innerHTML = docLinkHtml;\n",
              "          element.appendChild(docLink);\n",
              "        }\n",
              "      </script>\n",
              "    </div>\n",
              "  </div>\n",
              "  "
            ]
          },
          "metadata": {},
          "execution_count": 8
        }
      ]
    },
    {
      "cell_type": "code",
      "source": [
        "plt.figure(figsize=(20,5))\n",
        "plt.plot(df['Date'],df['Close'])\n",
        "plt.title('Historical Stock Value')\n",
        "plt.xlabel('Date')\n",
        "plt.ylabel('Stock Price')\n",
        "plt.show()"
      ],
      "metadata": {
        "colab": {
          "base_uri": "https://localhost:8080/",
          "height": 350
        },
        "id": "xFEibRPoyDnJ",
        "outputId": "897b383d-3aba-4b50-dab6-0d9b4c64e712"
      },
      "execution_count": 9,
      "outputs": [
        {
          "output_type": "display_data",
          "data": {
            "text/plain": [
              "<Figure size 1440x360 with 1 Axes>"
            ],
            "image/png": "[encoded data removed]"
          },
          "metadata": {
            "needs_background": "light"
          }
        }
      ]
    },
    {
      "cell_type": "code",
      "source": [
        "data = df.copy()"
      ],
      "metadata": {
        "id": "ig4h5cqVygRi"
      },
      "execution_count": 10,
      "outputs": []
    },
    {
      "cell_type": "code",
      "source": [
        "data.head()"
      ],
      "metadata": {
        "colab": {
          "base_uri": "https://localhost:8080/",
          "height": 206
        },
        "id": "71_FVDjl3cco",
        "outputId": "81b37950-eaf3-41c0-a825-b7771816c9cf"
      },
      "execution_count": 11,
      "outputs": [
        {
          "output_type": "execute_result",
          "data": {
            "text/plain": [
              "        Date       Open       High        Low      Close  Adj Close    Volume\n",
              "0 2015-01-02  46.660000  47.419998  46.540001  46.759998  40.926445  27913900\n",
              "1 2015-01-05  46.369999  46.730000  46.250000  46.330002  40.550083  39673900\n",
              "2 2015-01-06  46.380001  46.750000  45.540001  45.650002  39.954929  36447900\n",
              "3 2015-01-07  45.980000  46.459999  45.490002  46.230000  40.462555  29114100\n",
              "4 2015-01-08  46.750000  47.750000  46.720001  47.590000  41.652897  29645200"
            ],
            "text/html": [
              "\n",
              "  <div id=\"df-5a9e1c8e-70df-444c-8fd4-98d13fffcd8c\">\n",
              "    <div class=\"colab-df-container\">\n",
              "      <div>\n",
              "<style scoped>\n",
              "    .dataframe tbody tr th:only-of-type {\n",
              "        vertical-align: middle;\n",
              "    }\n",
              "\n",
              "    .dataframe tbody tr th {\n",
              "        vertical-align: top;\n",
              "    }\n",
              "\n",
              "    .dataframe thead th {\n",
              "        text-align: right;\n",
              "    }\n",
              "</style>\n",
              "<table border=\"1\" class=\"dataframe\">\n",
              "  <thead>\n",
              "    <tr style=\"text-align: right;\">\n",
              "      <th></th>\n",
              "      <th>Date</th>\n",
              "      <th>Open</th>\n",
              "      <th>High</th>\n",
              "      <th>Low</th>\n",
              "      <th>Close</th>\n",
              "      <th>Adj Close</th>\n",
              "      <th>Volume</th>\n",
              "    </tr>\n",
              "  </thead>\n",
              "  <tbody>\n",
              "    <tr>\n",
              "      <th>0</th>\n",
              "      <td>2015-01-02</td>\n",
              "      <td>46.660000</td>\n",
              "      <td>47.419998</td>\n",
              "      <td>46.540001</td>\n",
              "      <td>46.759998</td>\n",
              "      <td>40.926445</td>\n",
              "      <td>27913900</td>\n",
              "    </tr>\n",
              "    <tr>\n",
              "      <th>1</th>\n",
              "      <td>2015-01-05</td>\n",
              "      <td>46.369999</td>\n",
              "      <td>46.730000</td>\n",
              "      <td>46.250000</td>\n",
              "      <td>46.330002</td>\n",
              "      <td>40.550083</td>\n",
              "      <td>39673900</td>\n",
              "    </tr>\n",
              "    <tr>\n",
              "      <th>2</th>\n",
              "      <td>2015-01-06</td>\n",
              "      <td>46.380001</td>\n",
              "      <td>46.750000</td>\n",
              "      <td>45.540001</td>\n",
              "      <td>45.650002</td>\n",
              "      <td>39.954929</td>\n",
              "      <td>36447900</td>\n",
              "    </tr>\n",
              "    <tr>\n",
              "      <th>3</th>\n",
              "      <td>2015-01-07</td>\n",
              "      <td>45.980000</td>\n",
              "      <td>46.459999</td>\n",
              "      <td>45.490002</td>\n",
              "      <td>46.230000</td>\n",
              "      <td>40.462555</td>\n",
              "      <td>29114100</td>\n",
              "    </tr>\n",
              "    <tr>\n",
              "      <th>4</th>\n",
              "      <td>2015-01-08</td>\n",
              "      <td>46.750000</td>\n",
              "      <td>47.750000</td>\n",
              "      <td>46.720001</td>\n",
              "      <td>47.590000</td>\n",
              "      <td>41.652897</td>\n",
              "      <td>29645200</td>\n",
              "    </tr>\n",
              "  </tbody>\n",
              "</table>\n",
              "</div>\n",
              "      <button class=\"colab-df-convert\" onclick=\"convertToInteractive('df-5a9e1c8e-70df-444c-8fd4-98d13fffcd8c')\"\n",
              "              title=\"Convert this dataframe to an interactive table.\"\n",
              "              style=\"display:none;\">\n",
              "        \n",
              "  <svg xmlns=\"http://www.w3.org/2000/svg\" height=\"24px\"viewBox=\"0 0 24 24\"\n",
              "       width=\"24px\">\n",
              "    <path d=\"M0 0h24v24H0V0z\" fill=\"none\"/>\n",
              "    <path d=\"M18.56 5.44l.94 2.06.94-2.06 2.06-.94-2.06-.94-.94-2.06-.94 2.06-2.06.94zm-11 1L8.5 8.5l.94-2.06 2.06-.94-2.06-.94L8.5 2.5l-.94 2.06-2.06.94zm10 10l.94 2.06.94-2.06 2.06-.94-2.06-.94-.94-2.06-.94 2.06-2.06.94z\"/><path d=\"M17.41 7.96l-1.37-1.37c-.4-.4-.92-.59-1.43-.59-.52 0-1.04.2-1.43.59L10.3 9.45l-7.72 7.72c-.78.78-.78 2.05 0 2.83L4 21.41c.39.39.9.59 1.41.59.51 0 1.02-.2 1.41-.59l7.78-7.78 2.81-2.81c.8-.78.8-2.07 0-2.86zM5.41 20L4 18.59l7.72-7.72 1.47 1.35L5.41 20z\"/>\n",
              "  </svg>\n",
              "      </button>\n",
              "      \n",
              "  <style>\n",
              "    .colab-df-container {\n",
              "      display:flex;\n",
              "      flex-wrap:wrap;\n",
              "      gap: 12px;\n",
              "    }\n",
              "\n",
              "    .colab-df-convert {\n",
              "      background-color: #E8F0FE;\n",
              "      border: none;\n",
              "      border-radius: 50%;\n",
              "      cursor: pointer;\n",
              "      display: none;\n",
              "      fill: #1967D2;\n",
              "      height: 32px;\n",
              "      padding: 0 0 0 0;\n",
              "      width: 32px;\n",
              "    }\n",
              "\n",
              "    .colab-df-convert:hover {\n",
              "      background-color: #E2EBFA;\n",
              "      box-shadow: 0px 1px 2px rgba(60, 64, 67, 0.3), 0px 1px 3px 1px rgba(60, 64, 67, 0.15);\n",
              "      fill: #174EA6;\n",
              "    }\n",
              "\n",
              "    [theme=dark] .colab-df-convert {\n",
              "      background-color: #3B4455;\n",
              "      fill: #D2E3FC;\n",
              "    }\n",
              "\n",
              "    [theme=dark] .colab-df-convert:hover {\n",
              "      background-color: #434B5C;\n",
              "      box-shadow: 0px 1px 3px 1px rgba(0, 0, 0, 0.15);\n",
              "      filter: drop-shadow(0px 1px 2px rgba(0, 0, 0, 0.3));\n",
              "      fill: #FFFFFF;\n",
              "    }\n",
              "  </style>\n",
              "\n",
              "      <script>\n",
              "        const buttonEl =\n",
              "          document.querySelector('#df-5a9e1c8e-70df-444c-8fd4-98d13fffcd8c button.colab-df-convert');\n",
              "        buttonEl.style.display =\n",
              "          google.colab.kernel.accessAllowed ? 'block' : 'none';\n",
              "\n",
              "        async function convertToInteractive(key) {\n",
              "          const element = document.querySelector('#df-5a9e1c8e-70df-444c-8fd4-98d13fffcd8c');\n",
              "          const dataTable =\n",
              "            await google.colab.kernel.invokeFunction('convertToInteractive',\n",
              "                                                     [key], {});\n",
              "          if (!dataTable) return;\n",
              "\n",
              "          const docLinkHtml = 'Like what you see? Visit the ' +\n",
              "            '<a target=\"_blank\" href=https://colab.research.google.com/notebooks/data_table.ipynb>data table notebook</a>'\n",
              "            + ' to learn more about interactive tables.';\n",
              "          element.innerHTML = '';\n",
              "          dataTable['output_type'] = 'display_data';\n",
              "          await google.colab.output.renderOutput(dataTable, element);\n",
              "          const docLink = document.createElement('div');\n",
              "          docLink.innerHTML = docLinkHtml;\n",
              "          element.appendChild(docLink);\n",
              "        }\n",
              "      </script>\n",
              "    </div>\n",
              "  </div>\n",
              "  "
            ]
          },
          "metadata": {},
          "execution_count": 11
        }
      ]
    },
    {
      "cell_type": "code",
      "source": [
        "data.shape"
      ],
      "metadata": {
        "colab": {
          "base_uri": "https://localhost:8080/"
        },
        "id": "ZhCH9Wfu5b0P",
        "outputId": "24739ab1-68e5-4177-e6c4-86f09f7ae35b"
      },
      "execution_count": 12,
      "outputs": [
        {
          "output_type": "execute_result",
          "data": {
            "text/plain": [
              "(1762, 7)"
            ]
          },
          "metadata": {},
          "execution_count": 12
        }
      ]
    },
    {
      "cell_type": "code",
      "source": [
        "temp_set = df[['Date','Close']]\n",
        "training_set = temp_set.iloc[:1500,1:2].values\n",
        "test_set = temp_set.iloc[1500:,1:2].values"
      ],
      "metadata": {
        "id": "-gaFq70l7Rxw"
      },
      "execution_count": 13,
      "outputs": []
    },
    {
      "cell_type": "code",
      "source": [
        "training_set"
      ],
      "metadata": {
        "colab": {
          "base_uri": "https://localhost:8080/"
        },
        "id": "_NSDhhDS7fe4",
        "outputId": "d3b478f1-c27d-4e9f-9836-21ec211b2f04"
      },
      "execution_count": 14,
      "outputs": [
        {
          "output_type": "execute_result",
          "data": {
            "text/plain": [
              "array([[ 46.75999832],\n",
              "       [ 46.33000183],\n",
              "       [ 45.65000153],\n",
              "       ...,\n",
              "       [213.25999451],\n",
              "       [214.19999695],\n",
              "       [214.13000488]])"
            ]
          },
          "metadata": {},
          "execution_count": 14
        }
      ]
    },
    {
      "cell_type": "code",
      "source": [
        "sc = MinMaxScaler(feature_range = (0, 1))\n",
        "training_set_scaled = sc.fit_transform(training_set)\n",
        "\n",
        "X_train = []\n",
        "y_train = []\n",
        "for i in range(60, 1500):\n",
        "    X_train.append(training_set_scaled[i-60:i, 0])\n",
        "    y_train.append(training_set_scaled[i, 0])\n",
        "X_train, y_train = np.array(X_train), np.array(y_train)\n",
        "X_train = np.reshape(X_train, (X_train.shape[0], X_train.shape[1], 1))"
      ],
      "metadata": {
        "id": "oxXbGMUg7hBl"
      },
      "execution_count": 15,
      "outputs": []
    },
    {
      "cell_type": "code",
      "source": [
        "model = tf.keras.models.Sequential()\n",
        "model.add(tf.keras.layers.LSTM(units = 50, return_sequences = True, input_shape = (X_train.shape[1], 1)))\n",
        "model.add(tf.keras.layers.Dropout(0.2))\n",
        "model.add(tf.keras.layers.LSTM(units = 50, return_sequences = True))\n",
        "model.add(tf.keras.layers.Dropout(0.2))\n",
        "model.add(tf.keras.layers.LSTM(units = 50, return_sequences = True))\n",
        "model.add(tf.keras.layers.Dropout(0.2))\n",
        "model.add(tf.keras.layers.LSTM(units = 50))\n",
        "model.add(tf.keras.layers.Dropout(0.2))\n",
        "model.add(tf.keras.layers.Dense(units = 1))\n",
        "\n",
        "model.compile(optimizer = 'adam', loss = 'mean_squared_error')\n",
        "model.summary()"
      ],
      "metadata": {
        "colab": {
          "base_uri": "https://localhost:8080/"
        },
        "id": "m5BlN65e8VOI",
        "outputId": "c9f724b6-70ea-42ef-a6a4-bffd6b67ebda"
      },
      "execution_count": 16,
      "outputs": [
        {
          "output_type": "stream",
          "name": "stdout",
          "text": [
            "Model: \"sequential\"\n",
            "_________________________________________________________________\n",
            " Layer (type)                Output Shape              Param #   \n",
            "=================================================================\n",
            " lstm (LSTM)                 (None, 60, 50)            10400     \n",
            "                                                                 \n",
            " dropout (Dropout)           (None, 60, 50)            0         \n",
            "                                                                 \n",
            " lstm_1 (LSTM)               (None, 60, 50)            20200     \n",
            "                                                                 \n",
            " dropout_1 (Dropout)         (None, 60, 50)            0         \n",
            "                                                                 \n",
            " lstm_2 (LSTM)               (None, 60, 50)            20200     \n",
            "                                                                 \n",
            " dropout_2 (Dropout)         (None, 60, 50)            0         \n",
            "                                                                 \n",
            " lstm_3 (LSTM)               (None, 50)                20200     \n",
            "                                                                 \n",
            " dropout_3 (Dropout)         (None, 50)                0         \n",
            "                                                                 \n",
            " dense (Dense)               (None, 1)                 51        \n",
            "                                                                 \n",
            "=================================================================\n",
            "Total params: 71,051\n",
            "Trainable params: 71,051\n",
            "Non-trainable params: 0\n",
            "_________________________________________________________________\n"
          ]
        }
      ]
    },
    {
      "cell_type": "code",
      "source": [
        "!nvidia-smi"
      ],
      "metadata": {
        "colab": {
          "base_uri": "https://localhost:8080/"
        },
        "id": "g2Ohxjb99cua",
        "outputId": "3447b538-eef3-4242-b2c9-3fef89bfa854"
      },
      "execution_count": 17,
      "outputs": [
        {
          "output_type": "stream",
          "name": "stdout",
          "text": [
            "Mon Oct 31 07:37:01 2022       \n",
            "+-----------------------------------------------------------------------------+\n",
            "| NVIDIA-SMI 460.32.03    Driver Version: 460.32.03    CUDA Version: 11.2     |\n",
            "|-------------------------------+----------------------+----------------------+\n",
            "| GPU  Name        Persistence-M| Bus-Id        Disp.A | Volatile Uncorr. ECC |\n",
            "| Fan  Temp  Perf  Pwr:Usage/Cap|         Memory-Usage | GPU-Util  Compute M. |\n",
            "|                               |                      |               MIG M. |\n",
            "|===============================+======================+======================|\n",
            "|   0  Tesla T4            Off  | 00000000:00:04.0 Off |                    0 |\n",
            "| N/A   63C    P0    31W /  70W |    314MiB / 15109MiB |      0%      Default |\n",
            "|                               |                      |                  N/A |\n",
            "+-------------------------------+----------------------+----------------------+\n",
            "                                                                               \n",
            "+-----------------------------------------------------------------------------+\n",
            "| Processes:                                                                  |\n",
            "|  GPU   GI   CI        PID   Type   Process name                  GPU Memory |\n",
            "|        ID   ID                                                   Usage      |\n",
            "|=============================================================================|\n",
            "+-----------------------------------------------------------------------------+\n"
          ]
        }
      ]
    },
    {
      "cell_type": "code",
      "source": [
        "model.fit(X_train, y_train, epochs = 50, batch_size = 32)"
      ],
      "metadata": {
        "colab": {
          "base_uri": "https://localhost:8080/"
        },
        "id": "4FbzOdn_9pqq",
        "outputId": "bb804d09-9eaf-427f-b264-a86b657c2378"
      },
      "execution_count": 18,
      "outputs": [
        {
          "output_type": "stream",
          "name": "stdout",
          "text": [
            "Epoch 1/50\n",
            "45/45 [==============================] - 14s 20ms/step - loss: 0.0251\n",
            "Epoch 2/50\n",
            "45/45 [==============================] - 1s 21ms/step - loss: 0.0034\n",
            "Epoch 3/50\n",
            "45/45 [==============================] - 1s 22ms/step - loss: 0.0031\n",
            "Epoch 4/50\n",
            "45/45 [==============================] - 1s 13ms/step - loss: 0.0027\n",
            "Epoch 5/50\n",
            "45/45 [==============================] - 1s 13ms/step - loss: 0.0025\n",
            "Epoch 6/50\n",
            "45/45 [==============================] - 1s 13ms/step - loss: 0.0024\n",
            "Epoch 7/50\n",
            "45/45 [==============================] - 1s 13ms/step - loss: 0.0024\n",
            "Epoch 8/50\n",
            "45/45 [==============================] - 1s 13ms/step - loss: 0.0023\n",
            "Epoch 9/50\n",
            "45/45 [==============================] - 1s 13ms/step - loss: 0.0022\n",
            "Epoch 10/50\n",
            "45/45 [==============================] - 1s 13ms/step - loss: 0.0021\n",
            "Epoch 11/50\n",
            "45/45 [==============================] - 1s 13ms/step - loss: 0.0025\n",
            "Epoch 12/50\n",
            "45/45 [==============================] - 1s 13ms/step - loss: 0.0020\n",
            "Epoch 13/50\n",
            "45/45 [==============================] - 1s 14ms/step - loss: 0.0018\n",
            "Epoch 14/50\n",
            "45/45 [==============================] - 1s 13ms/step - loss: 0.0017\n",
            "Epoch 15/50\n",
            "45/45 [==============================] - 1s 14ms/step - loss: 0.0019\n",
            "Epoch 16/50\n",
            "45/45 [==============================] - 1s 14ms/step - loss: 0.0021\n",
            "Epoch 17/50\n",
            "45/45 [==============================] - 1s 14ms/step - loss: 0.0026\n",
            "Epoch 18/50\n",
            "45/45 [==============================] - 1s 14ms/step - loss: 0.0022\n",
            "Epoch 19/50\n",
            "45/45 [==============================] - 1s 13ms/step - loss: 0.0016\n",
            "Epoch 20/50\n",
            "45/45 [==============================] - 1s 14ms/step - loss: 0.0017\n",
            "Epoch 21/50\n",
            "45/45 [==============================] - 1s 14ms/step - loss: 0.0016\n",
            "Epoch 22/50\n",
            "45/45 [==============================] - 1s 13ms/step - loss: 0.0018\n",
            "Epoch 23/50\n",
            "45/45 [==============================] - 1s 13ms/step - loss: 0.0019\n",
            "Epoch 24/50\n",
            "45/45 [==============================] - 1s 13ms/step - loss: 0.0015\n",
            "Epoch 25/50\n",
            "45/45 [==============================] - 1s 15ms/step - loss: 0.0017\n",
            "Epoch 26/50\n",
            "45/45 [==============================] - 1s 14ms/step - loss: 0.0016\n",
            "Epoch 27/50\n",
            "45/45 [==============================] - 1s 14ms/step - loss: 0.0016\n",
            "Epoch 28/50\n",
            "45/45 [==============================] - 1s 13ms/step - loss: 0.0018\n",
            "Epoch 29/50\n",
            "45/45 [==============================] - 1s 13ms/step - loss: 0.0018\n",
            "Epoch 30/50\n",
            "45/45 [==============================] - 1s 13ms/step - loss: 0.0017\n",
            "Epoch 31/50\n",
            "45/45 [==============================] - 1s 13ms/step - loss: 0.0016\n",
            "Epoch 32/50\n",
            "45/45 [==============================] - 1s 14ms/step - loss: 0.0015\n",
            "Epoch 33/50\n",
            "45/45 [==============================] - 1s 13ms/step - loss: 0.0015\n",
            "Epoch 34/50\n",
            "45/45 [==============================] - 1s 13ms/step - loss: 0.0014\n",
            "Epoch 35/50\n",
            "45/45 [==============================] - 1s 13ms/step - loss: 0.0012\n",
            "Epoch 36/50\n",
            "45/45 [==============================] - 1s 13ms/step - loss: 0.0013\n",
            "Epoch 37/50\n",
            "45/45 [==============================] - 1s 13ms/step - loss: 0.0013\n",
            "Epoch 38/50\n",
            "45/45 [==============================] - 1s 13ms/step - loss: 0.0017\n",
            "Epoch 39/50\n",
            "45/45 [==============================] - 1s 13ms/step - loss: 0.0014\n",
            "Epoch 40/50\n",
            "45/45 [==============================] - 1s 13ms/step - loss: 0.0014\n",
            "Epoch 41/50\n",
            "45/45 [==============================] - 1s 13ms/step - loss: 0.0012\n",
            "Epoch 42/50\n",
            "45/45 [==============================] - 1s 13ms/step - loss: 0.0014\n",
            "Epoch 43/50\n",
            "45/45 [==============================] - 1s 14ms/step - loss: 0.0014\n",
            "Epoch 44/50\n",
            "45/45 [==============================] - 1s 14ms/step - loss: 0.0012\n",
            "Epoch 45/50\n",
            "45/45 [==============================] - 1s 13ms/step - loss: 0.0012\n",
            "Epoch 46/50\n",
            "45/45 [==============================] - 1s 13ms/step - loss: 0.0012\n",
            "Epoch 47/50\n",
            "45/45 [==============================] - 1s 13ms/step - loss: 0.0011\n",
            "Epoch 48/50\n",
            "45/45 [==============================] - 1s 13ms/step - loss: 0.0011\n",
            "Epoch 49/50\n",
            "45/45 [==============================] - 1s 13ms/step - loss: 0.0012\n",
            "Epoch 50/50\n",
            "45/45 [==============================] - 1s 13ms/step - loss: 0.0010\n"
          ]
        },
        {
          "output_type": "execute_result",
          "data": {
            "text/plain": [
              "<keras.callbacks.History at 0x7f23303825d0>"
            ]
          },
          "metadata": {},
          "execution_count": 18
        }
      ]
    },
    {
      "cell_type": "code",
      "source": [
        "testdataframe= yf.download('MSFT',dt.datetime(2021,1,1),dt.date.today())\n",
        "testdataframe.reset_index(inplace=True)\n",
        "testdataframe['Date'] = testdataframe.index\n",
        "testdata = pd.DataFrame(columns = ['Date', 'Open', 'High', 'Low', 'Close'])\n",
        "testdata['Date'] = testdataframe['Date']\n",
        "testdata['Open'] = testdataframe['Open']\n",
        "testdata['High'] = testdataframe['High']\n",
        "testdata['Low'] = testdataframe['Low']\n",
        "testdata['Close'] = testdataframe['Close']\n",
        "real_stock_price = testdata[['Date','Close']]\n",
        "dataset_total = pd.concat((data['Close'], testdata['Close']), axis = 0)"
      ],
      "metadata": {
        "colab": {
          "base_uri": "https://localhost:8080/"
        },
        "id": "h6whSi8W-MeS",
        "outputId": "4d127745-7698-4c28-bf22-55733ee00473"
      },
      "execution_count": 19,
      "outputs": [
        {
          "output_type": "stream",
          "name": "stdout",
          "text": [
            "\r[*********************100%***********************]  1 of 1 completed\n"
          ]
        }
      ]
    },
    {
      "cell_type": "code",
      "source": [
        "dataset_total.shape"
      ],
      "metadata": {
        "colab": {
          "base_uri": "https://localhost:8080/"
        },
        "id": "nnDrdeAV_uyf",
        "outputId": "d140f350-cc83-42f7-a5a4-f3da126652b2"
      },
      "execution_count": 20,
      "outputs": [
        {
          "output_type": "execute_result",
          "data": {
            "text/plain": [
              "(2222,)"
            ]
          },
          "metadata": {},
          "execution_count": 20
        }
      ]
    },
    {
      "cell_type": "code",
      "source": [
        "real_stock_price.shape"
      ],
      "metadata": {
        "colab": {
          "base_uri": "https://localhost:8080/"
        },
        "id": "O7GumGY3_xhy",
        "outputId": "a748acaf-32dd-4649-9834-d810597dccc9"
      },
      "execution_count": 21,
      "outputs": [
        {
          "output_type": "execute_result",
          "data": {
            "text/plain": [
              "(460, 2)"
            ]
          },
          "metadata": {},
          "execution_count": 21
        }
      ]
    },
    {
      "cell_type": "code",
      "source": [
        "inputs = dataset_total[len(dataset_total) - len(testdata) - 60:].values\n",
        "inputs = inputs.reshape(-1,1)\n",
        "inputs = sc.transform(inputs)\n",
        "X_test = []\n",
        "for i in range(60, 447):\n",
        "    X_test.append(inputs[i-60:i, 0])\n",
        "X_test = np.array(X_test)\n",
        "X_test = np.reshape(X_test, (X_test.shape[0], X_test.shape[1], 1))"
      ],
      "metadata": {
        "id": "TE6qG-lR_75T"
      },
      "execution_count": 22,
      "outputs": []
    },
    {
      "cell_type": "code",
      "source": [
        "predicted = model.predict(X_test)\n",
        "predicted = sc.inverse_transform(predicted)\n",
        "predicted"
      ],
      "metadata": {
        "colab": {
          "base_uri": "https://localhost:8080/"
        },
        "id": "d8XIcBs-ApZs",
        "outputId": "33e1f585-aef2-4fdd-9cc0-f867af6cc00e"
      },
      "execution_count": 23,
      "outputs": [
        {
          "output_type": "stream",
          "name": "stdout",
          "text": [
            "13/13 [==============================] - 1s 7ms/step\n"
          ]
        },
        {
          "output_type": "execute_result",
          "data": {
            "text/plain": [
              "array([[288.18942],\n",
              "       [286.53494],\n",
              "       [282.02005],\n",
              "       [275.34076],\n",
              "       [267.50812],\n",
              "       [259.40906],\n",
              "       [251.75351],\n",
              "       [245.07175],\n",
              "       [239.76437],\n",
              "       [235.99919],\n",
              "       [233.75798],\n",
              "       [232.93356],\n",
              "       [233.42737],\n",
              "       [234.98898],\n",
              "       [237.2499 ],\n",
              "       [239.8569 ],\n",
              "       [242.50352],\n",
              "       [244.91469],\n",
              "       [247.00533],\n",
              "       [248.52298],\n",
              "       [249.51425],\n",
              "       [250.0306 ],\n",
              "       [250.21243],\n",
              "       [250.12598],\n",
              "       [249.81851],\n",
              "       [249.33327],\n",
              "       [248.74188],\n",
              "       [248.07129],\n",
              "       [247.39064],\n",
              "       [246.75922],\n",
              "       [246.1734 ],\n",
              "       [245.64195],\n",
              "       [245.15709],\n",
              "       [244.6464 ],\n",
              "       [243.92734],\n",
              "       [242.92503],\n",
              "       [241.71928],\n",
              "       [240.31267],\n",
              "       [238.86646],\n",
              "       [237.65111],\n",
              "       [236.75519],\n",
              "       [236.04427],\n",
              "       [235.40016],\n",
              "       [234.88277],\n",
              "       [234.43755],\n",
              "       [234.19614],\n",
              "       [234.18411],\n",
              "       [234.4889 ],\n",
              "       [235.06511],\n",
              "       [235.7845 ],\n",
              "       [236.583  ],\n",
              "       [237.3712 ],\n",
              "       [237.90532],\n",
              "       [238.05899],\n",
              "       [237.96494],\n",
              "       [237.79843],\n",
              "       [237.62479],\n",
              "       [237.39497],\n",
              "       [237.19122],\n",
              "       [237.03111],\n",
              "       [236.83499],\n",
              "       [236.67955],\n",
              "       [236.74908],\n",
              "       [237.3041 ],\n",
              "       [238.35545],\n",
              "       [239.8156 ],\n",
              "       [241.57765],\n",
              "       [243.52048],\n",
              "       [245.46309],\n",
              "       [247.29301],\n",
              "       [248.81621],\n",
              "       [250.02391],\n",
              "       [250.95555],\n",
              "       [251.59355],\n",
              "       [251.93758],\n",
              "       [252.08337],\n",
              "       [252.02528],\n",
              "       [251.90019],\n",
              "       [251.8106 ],\n",
              "       [251.82347],\n",
              "       [251.76245],\n",
              "       [251.49736],\n",
              "       [251.00566],\n",
              "       [250.34651],\n",
              "       [249.52388],\n",
              "       [248.57925],\n",
              "       [247.68231],\n",
              "       [247.03406],\n",
              "       [246.60765],\n",
              "       [246.33893],\n",
              "       [246.0004 ],\n",
              "       [245.59343],\n",
              "       [245.28944],\n",
              "       [245.12535],\n",
              "       [245.0524 ],\n",
              "       [245.0256 ],\n",
              "       [245.0968 ],\n",
              "       [245.25069],\n",
              "       [245.59444],\n",
              "       [246.16788],\n",
              "       [246.91959],\n",
              "       [247.693  ],\n",
              "       [248.36671],\n",
              "       [248.8071 ],\n",
              "       [248.96635],\n",
              "       [248.82378],\n",
              "       [248.55649],\n",
              "       [248.37105],\n",
              "       [248.34163],\n",
              "       [248.49356],\n",
              "       [248.88234],\n",
              "       [249.49254],\n",
              "       [250.29553],\n",
              "       [251.16081],\n",
              "       [251.93896],\n",
              "       [252.623  ],\n",
              "       [253.16545],\n",
              "       [253.62666],\n",
              "       [254.10727],\n",
              "       [254.63094],\n",
              "       [255.2087 ],\n",
              "       [255.76056],\n",
              "       [256.31467],\n",
              "       [256.93027],\n",
              "       [257.58865],\n",
              "       [258.25497],\n",
              "       [259.0313 ],\n",
              "       [259.91595],\n",
              "       [260.9012 ],\n",
              "       [261.8458 ],\n",
              "       [262.6503 ],\n",
              "       [263.23636],\n",
              "       [263.67657],\n",
              "       [264.059  ],\n",
              "       [264.3855 ],\n",
              "       [264.64206],\n",
              "       [264.7287 ],\n",
              "       [264.68143],\n",
              "       [264.60446],\n",
              "       [264.68518],\n",
              "       [265.07864],\n",
              "       [265.76724],\n",
              "       [266.58038],\n",
              "       [267.35413],\n",
              "       [267.98672],\n",
              "       [268.39355],\n",
              "       [268.5638 ],\n",
              "       [268.59396],\n",
              "       [268.5502 ],\n",
              "       [268.55704],\n",
              "       [268.66663],\n",
              "       [268.85   ],\n",
              "       [269.02194],\n",
              "       [269.14804],\n",
              "       [269.28696],\n",
              "       [269.5387 ],\n",
              "       [269.96466],\n",
              "       [270.50253],\n",
              "       [271.00995],\n",
              "       [271.54172],\n",
              "       [272.27933],\n",
              "       [273.24155],\n",
              "       [274.28165],\n",
              "       [275.22922],\n",
              "       [275.8928 ],\n",
              "       [276.22046],\n",
              "       [276.33224],\n",
              "       [276.2846 ],\n",
              "       [276.1372 ],\n",
              "       [275.92496],\n",
              "       [275.6857 ],\n",
              "       [275.43222],\n",
              "       [275.18832],\n",
              "       [274.91013],\n",
              "       [274.5667 ],\n",
              "       [274.20865],\n",
              "       [273.9553 ],\n",
              "       [273.98132],\n",
              "       [274.33023],\n",
              "       [274.81372],\n",
              "       [275.1538 ],\n",
              "       [275.24435],\n",
              "       [275.17706],\n",
              "       [275.06662],\n",
              "       [274.98523],\n",
              "       [274.84735],\n",
              "       [274.38702],\n",
              "       [273.57962],\n",
              "       [272.4834 ],\n",
              "       [271.40857],\n",
              "       [270.43494],\n",
              "       [269.76114],\n",
              "       [269.5627 ],\n",
              "       [269.8929 ],\n",
              "       [270.65616],\n",
              "       [271.65793],\n",
              "       [272.66617],\n",
              "       [273.59445],\n",
              "       [274.52432],\n",
              "       [275.4812 ],\n",
              "       [276.48657],\n",
              "       [277.49323],\n",
              "       [278.3868 ],\n",
              "       [279.1514 ],\n",
              "       [279.71133],\n",
              "       [280.00827],\n",
              "       [280.088  ],\n",
              "       [280.30875],\n",
              "       [280.81265],\n",
              "       [281.7355 ],\n",
              "       [282.9127 ],\n",
              "       [284.20703],\n",
              "       [285.4464 ],\n",
              "       [286.53122],\n",
              "       [287.3588 ],\n",
              "       [287.8987 ],\n",
              "       [288.12903],\n",
              "       [287.9651 ],\n",
              "       [287.49692],\n",
              "       [286.94485],\n",
              "       [286.43793],\n",
              "       [286.13016],\n",
              "       [286.05045],\n",
              "       [286.2136 ],\n",
              "       [286.6013 ],\n",
              "       [287.0563 ],\n",
              "       [287.42032],\n",
              "       [287.631  ],\n",
              "       [287.50635],\n",
              "       [287.2158 ],\n",
              "       [286.75702],\n",
              "       [286.1984 ],\n",
              "       [285.61633],\n",
              "       [284.95517],\n",
              "       [284.32617],\n",
              "       [284.00522],\n",
              "       [284.08618],\n",
              "       [284.4903 ],\n",
              "       [285.29745],\n",
              "       [286.33337],\n",
              "       [287.16058],\n",
              "       [287.72604],\n",
              "       [287.81555],\n",
              "       [287.4306 ],\n",
              "       [286.61725],\n",
              "       [285.6988 ],\n",
              "       [285.0199 ],\n",
              "       [284.76266],\n",
              "       [285.1048 ],\n",
              "       [285.94077],\n",
              "       [287.06888],\n",
              "       [288.18942],\n",
              "       [289.03107],\n",
              "       [289.45197],\n",
              "       [289.33643],\n",
              "       [288.49796],\n",
              "       [287.02454],\n",
              "       [285.17786],\n",
              "       [283.26486],\n",
              "       [281.56625],\n",
              "       [280.339  ],\n",
              "       [279.40817],\n",
              "       [278.8041 ],\n",
              "       [278.35947],\n",
              "       [278.02316],\n",
              "       [277.74747],\n",
              "       [277.4157 ],\n",
              "       [277.02402],\n",
              "       [276.45364],\n",
              "       [275.89722],\n",
              "       [275.55145],\n",
              "       [275.68262],\n",
              "       [276.38474],\n",
              "       [277.49313],\n",
              "       [278.87302],\n",
              "       [280.03302],\n",
              "       [280.82852],\n",
              "       [281.1088 ],\n",
              "       [280.9818 ],\n",
              "       [280.72922],\n",
              "       [280.31845],\n",
              "       [279.61697],\n",
              "       [278.64572],\n",
              "       [277.6323 ],\n",
              "       [276.7266 ],\n",
              "       [275.8362 ],\n",
              "       [274.89386],\n",
              "       [273.91928],\n",
              "       [272.82532],\n",
              "       [271.9614 ],\n",
              "       [271.57635],\n",
              "       [271.7676 ],\n",
              "       [272.36838],\n",
              "       [273.2933 ],\n",
              "       [274.28223],\n",
              "       [275.00375],\n",
              "       [275.07095],\n",
              "       [274.37274],\n",
              "       [273.32718],\n",
              "       [272.20282],\n",
              "       [271.08423],\n",
              "       [269.9712 ],\n",
              "       [269.14606],\n",
              "       [268.90402],\n",
              "       [269.32413],\n",
              "       [270.40683],\n",
              "       [271.91895],\n",
              "       [273.67923],\n",
              "       [275.32947],\n",
              "       [276.73737],\n",
              "       [277.7973 ],\n",
              "       [278.63834],\n",
              "       [279.42017],\n",
              "       [280.132  ],\n",
              "       [280.5885 ],\n",
              "       [280.73865],\n",
              "       [280.729  ],\n",
              "       [280.55597],\n",
              "       [279.9918 ],\n",
              "       [279.0812 ],\n",
              "       [277.86212],\n",
              "       [276.23083],\n",
              "       [274.24063],\n",
              "       [272.21387],\n",
              "       [270.2625 ],\n",
              "       [268.55157],\n",
              "       [267.31442],\n",
              "       [266.6838 ],\n",
              "       [266.5368 ],\n",
              "       [266.57516],\n",
              "       [266.7682 ],\n",
              "       [266.84616],\n",
              "       [266.99924],\n",
              "       [267.46844],\n",
              "       [268.02634],\n",
              "       [268.6639 ],\n",
              "       [269.258  ],\n",
              "       [269.91992],\n",
              "       [270.35883],\n",
              "       [270.38586],\n",
              "       [269.75238],\n",
              "       [268.6069 ],\n",
              "       [266.97723],\n",
              "       [264.92953],\n",
              "       [262.78033],\n",
              "       [260.81473],\n",
              "       [259.35208],\n",
              "       [258.25156],\n",
              "       [257.37955],\n",
              "       [256.63562],\n",
              "       [256.1684 ],\n",
              "       [256.0208 ],\n",
              "       [256.23538],\n",
              "       [256.83423],\n",
              "       [257.9077 ],\n",
              "       [259.32834],\n",
              "       [260.89355],\n",
              "       [262.43225],\n",
              "       [263.66467],\n",
              "       [264.41425],\n",
              "       [264.7358 ],\n",
              "       [264.67096],\n",
              "       [264.17242],\n",
              "       [263.03067],\n",
              "       [261.05548],\n",
              "       [258.43088],\n",
              "       [255.6391 ],\n",
              "       [252.93686],\n",
              "       [250.60927],\n",
              "       [248.97028],\n",
              "       [248.13568],\n",
              "       [248.19185],\n",
              "       [249.2458 ],\n",
              "       [251.06656],\n",
              "       [253.07231],\n",
              "       [254.90588],\n",
              "       [256.2591 ],\n",
              "       [257.08994],\n",
              "       [257.53122],\n",
              "       [257.79025],\n",
              "       [258.04858],\n",
              "       [258.35648],\n",
              "       [258.61563],\n",
              "       [258.4847 ],\n",
              "       [257.83524],\n",
              "       [256.7579 ],\n",
              "       [255.49725]], dtype=float32)"
            ]
          },
          "metadata": {},
          "execution_count": 23
        }
      ]
    },
    {
      "cell_type": "code",
      "source": [
        "real_stock_price"
      ],
      "metadata": {
        "colab": {
          "base_uri": "https://localhost:8080/",
          "height": 424
        },
        "id": "UJNryeAfDnnG",
        "outputId": "d7f22a8c-ac86-4c76-b486-05af85fc08d6"
      },
      "execution_count": 24,
      "outputs": [
        {
          "output_type": "execute_result",
          "data": {
            "text/plain": [
              "     Date       Close\n",
              "0       0  217.690002\n",
              "1       1  217.899994\n",
              "2       2  212.250000\n",
              "3       3  218.289993\n",
              "4       4  219.619995\n",
              "..    ...         ...\n",
              "455   455  247.250000\n",
              "456   456  250.660004\n",
              "457   457  231.320007\n",
              "458   458  226.750000\n",
              "459   459  235.869995\n",
              "\n",
              "[460 rows x 2 columns]"
            ],
            "text/html": [
              "\n",
              "  <div id=\"df-aabdea7b-6685-4aeb-9a86-18d91b24fff6\">\n",
              "    <div class=\"colab-df-container\">\n",
              "      <div>\n",
              "<style scoped>\n",
              "    .dataframe tbody tr th:only-of-type {\n",
              "        vertical-align: middle;\n",
              "    }\n",
              "\n",
              "    .dataframe tbody tr th {\n",
              "        vertical-align: top;\n",
              "    }\n",
              "\n",
              "    .dataframe thead th {\n",
              "        text-align: right;\n",
              "    }\n",
              "</style>\n",
              "<table border=\"1\" class=\"dataframe\">\n",
              "  <thead>\n",
              "    <tr style=\"text-align: right;\">\n",
              "      <th></th>\n",
              "      <th>Date</th>\n",
              "      <th>Close</th>\n",
              "    </tr>\n",
              "  </thead>\n",
              "  <tbody>\n",
              "    <tr>\n",
              "      <th>0</th>\n",
              "      <td>0</td>\n",
              "      <td>217.690002</td>\n",
              "    </tr>\n",
              "    <tr>\n",
              "      <th>1</th>\n",
              "      <td>1</td>\n",
              "      <td>217.899994</td>\n",
              "    </tr>\n",
              "    <tr>\n",
              "      <th>2</th>\n",
              "      <td>2</td>\n",
              "      <td>212.250000</td>\n",
              "    </tr>\n",
              "    <tr>\n",
              "      <th>3</th>\n",
              "      <td>3</td>\n",
              "      <td>218.289993</td>\n",
              "    </tr>\n",
              "    <tr>\n",
              "      <th>4</th>\n",
              "      <td>4</td>\n",
              "      <td>219.619995</td>\n",
              "    </tr>\n",
              "    <tr>\n",
              "      <th>...</th>\n",
              "      <td>...</td>\n",
              "      <td>...</td>\n",
              "    </tr>\n",
              "    <tr>\n",
              "      <th>455</th>\n",
              "      <td>455</td>\n",
              "      <td>247.250000</td>\n",
              "    </tr>\n",
              "    <tr>\n",
              "      <th>456</th>\n",
              "      <td>456</td>\n",
              "      <td>250.660004</td>\n",
              "    </tr>\n",
              "    <tr>\n",
              "      <th>457</th>\n",
              "      <td>457</td>\n",
              "      <td>231.320007</td>\n",
              "    </tr>\n",
              "    <tr>\n",
              "      <th>458</th>\n",
              "      <td>458</td>\n",
              "      <td>226.750000</td>\n",
              "    </tr>\n",
              "    <tr>\n",
              "      <th>459</th>\n",
              "      <td>459</td>\n",
              "      <td>235.869995</td>\n",
              "    </tr>\n",
              "  </tbody>\n",
              "</table>\n",
              "<p>460 rows × 2 columns</p>\n",
              "</div>\n",
              "      <button class=\"colab-df-convert\" onclick=\"convertToInteractive('df-aabdea7b-6685-4aeb-9a86-18d91b24fff6')\"\n",
              "              title=\"Convert this dataframe to an interactive table.\"\n",
              "              style=\"display:none;\">\n",
              "        \n",
              "  <svg xmlns=\"http://www.w3.org/2000/svg\" height=\"24px\"viewBox=\"0 0 24 24\"\n",
              "       width=\"24px\">\n",
              "    <path d=\"M0 0h24v24H0V0z\" fill=\"none\"/>\n",
              "    <path d=\"M18.56 5.44l.94 2.06.94-2.06 2.06-.94-2.06-.94-.94-2.06-.94 2.06-2.06.94zm-11 1L8.5 8.5l.94-2.06 2.06-.94-2.06-.94L8.5 2.5l-.94 2.06-2.06.94zm10 10l.94 2.06.94-2.06 2.06-.94-2.06-.94-.94-2.06-.94 2.06-2.06.94z\"/><path d=\"M17.41 7.96l-1.37-1.37c-.4-.4-.92-.59-1.43-.59-.52 0-1.04.2-1.43.59L10.3 9.45l-7.72 7.72c-.78.78-.78 2.05 0 2.83L4 21.41c.39.39.9.59 1.41.59.51 0 1.02-.2 1.41-.59l7.78-7.78 2.81-2.81c.8-.78.8-2.07 0-2.86zM5.41 20L4 18.59l7.72-7.72 1.47 1.35L5.41 20z\"/>\n",
              "  </svg>\n",
              "      </button>\n",
              "      \n",
              "  <style>\n",
              "    .colab-df-container {\n",
              "      display:flex;\n",
              "      flex-wrap:wrap;\n",
              "      gap: 12px;\n",
              "    }\n",
              "\n",
              "    .colab-df-convert {\n",
              "      background-color: #E8F0FE;\n",
              "      border: none;\n",
              "      border-radius: 50%;\n",
              "      cursor: pointer;\n",
              "      display: none;\n",
              "      fill: #1967D2;\n",
              "      height: 32px;\n",
              "      padding: 0 0 0 0;\n",
              "      width: 32px;\n",
              "    }\n",
              "\n",
              "    .colab-df-convert:hover {\n",
              "      background-color: #E2EBFA;\n",
              "      box-shadow: 0px 1px 2px rgba(60, 64, 67, 0.3), 0px 1px 3px 1px rgba(60, 64, 67, 0.15);\n",
              "      fill: #174EA6;\n",
              "    }\n",
              "\n",
              "    [theme=dark] .colab-df-convert {\n",
              "      background-color: #3B4455;\n",
              "      fill: #D2E3FC;\n",
              "    }\n",
              "\n",
              "    [theme=dark] .colab-df-convert:hover {\n",
              "      background-color: #434B5C;\n",
              "      box-shadow: 0px 1px 3px 1px rgba(0, 0, 0, 0.15);\n",
              "      filter: drop-shadow(0px 1px 2px rgba(0, 0, 0, 0.3));\n",
              "      fill: #FFFFFF;\n",
              "    }\n",
              "  </style>\n",
              "\n",
              "      <script>\n",
              "        const buttonEl =\n",
              "          document.querySelector('#df-aabdea7b-6685-4aeb-9a86-18d91b24fff6 button.colab-df-convert');\n",
              "        buttonEl.style.display =\n",
              "          google.colab.kernel.accessAllowed ? 'block' : 'none';\n",
              "\n",
              "        async function convertToInteractive(key) {\n",
              "          const element = document.querySelector('#df-aabdea7b-6685-4aeb-9a86-18d91b24fff6');\n",
              "          const dataTable =\n",
              "            await google.colab.kernel.invokeFunction('convertToInteractive',\n",
              "                                                     [key], {});\n",
              "          if (!dataTable) return;\n",
              "\n",
              "          const docLinkHtml = 'Like what you see? Visit the ' +\n",
              "            '<a target=\"_blank\" href=https://colab.research.google.com/notebooks/data_table.ipynb>data table notebook</a>'\n",
              "            + ' to learn more about interactive tables.';\n",
              "          element.innerHTML = '';\n",
              "          dataTable['output_type'] = 'display_data';\n",
              "          await google.colab.output.renderOutput(dataTable, element);\n",
              "          const docLink = document.createElement('div');\n",
              "          docLink.innerHTML = docLinkHtml;\n",
              "          element.appendChild(docLink);\n",
              "        }\n",
              "      </script>\n",
              "    </div>\n",
              "  </div>\n",
              "  "
            ]
          },
          "metadata": {},
          "execution_count": 24
        }
      ]
    },
    {
      "cell_type": "code",
      "source": [
        "plt.figure(figsize=(20,5))\n",
        "plot_0 = (plt.plot(real_stock_price['Close'], color = 'blue', label = 'Stock Price'),plt.plot(predicted, color = 'black', label = 'Predicted Stock Price'))\n",
        "plt.title('Stock Price Prediction')\n",
        "plt.xlabel('Trading Day')\n",
        "plt.ylabel('Stock Price')\n",
        "plt.legend()\n",
        "plt.show(plot_0)"
      ],
      "metadata": {
        "colab": {
          "base_uri": "https://localhost:8080/",
          "height": 350
        },
        "id": "LmtgDUHsBKtU",
        "outputId": "1183f43f-c594-4b86-b953-bb25b042c390"
      },
      "execution_count": 46,
      "outputs": [
        {
          "output_type": "display_data",
          "data": {
            "text/plain": [
              "<Figure size 1440x360 with 1 Axes>"
            ],
            "image/png": "[encoded data removed]"
          },
          "metadata": {
            "needs_background": "light"
          }
        }
      ]
    },
    {
      "cell_type": "code",
      "source": [
        "model0 = tf.keras.Sequential()\n",
        "\n",
        "model0.add(tf.keras.layers.SimpleRNN(units = 50, activation = 'tanh', return_sequences = True, input_shape = (X_train.shape[1], 1)))\n",
        "model0.add(tf.keras.layers.Dropout(0.2))\n",
        "model0.add(tf.keras.layers.SimpleRNN(units = 50))\n",
        "model0.add(tf.keras.layers.Dropout(0.2))\n",
        "model0.add(tf.keras.layers.Dense(units = 1))\n",
        "model0.compile(optimizer = 'adam', loss = 'mean_squared_error')\n",
        "model0.summary()"
      ],
      "metadata": {
        "colab": {
          "base_uri": "https://localhost:8080/"
        },
        "id": "mmmPkLA8aNXY",
        "outputId": "140c69ce-2eb7-4bb9-8630-dea25580b4f6"
      },
      "execution_count": 26,
      "outputs": [
        {
          "output_type": "stream",
          "name": "stdout",
          "text": [
            "Model: \"sequential_1\"\n",
            "_________________________________________________________________\n",
            " Layer (type)                Output Shape              Param #   \n",
            "=================================================================\n",
            " simple_rnn (SimpleRNN)      (None, 60, 50)            2600      \n",
            "                                                                 \n",
            " dropout_4 (Dropout)         (None, 60, 50)            0         \n",
            "                                                                 \n",
            " simple_rnn_1 (SimpleRNN)    (None, 50)                5050      \n",
            "                                                                 \n",
            " dropout_5 (Dropout)         (None, 50)                0         \n",
            "                                                                 \n",
            " dense_1 (Dense)             (None, 1)                 51        \n",
            "                                                                 \n",
            "=================================================================\n",
            "Total params: 7,701\n",
            "Trainable params: 7,701\n",
            "Non-trainable params: 0\n",
            "_________________________________________________________________\n"
          ]
        }
      ]
    },
    {
      "cell_type": "code",
      "source": [
        "model0.fit(X_train, y_train, epochs = 50, batch_size = 32)"
      ],
      "metadata": {
        "colab": {
          "base_uri": "https://localhost:8080/"
        },
        "id": "SfuwThlUaiGk",
        "outputId": "5fcf381b-be8e-4656-8e4f-82e129477119"
      },
      "execution_count": 27,
      "outputs": [
        {
          "output_type": "stream",
          "name": "stdout",
          "text": [
            "Epoch 1/50\n",
            "45/45 [==============================] - 4s 65ms/step - loss: 0.0458\n",
            "Epoch 2/50\n",
            "45/45 [==============================] - 3s 63ms/step - loss: 0.0131\n",
            "Epoch 3/50\n",
            "45/45 [==============================] - 3s 63ms/step - loss: 0.0086\n",
            "Epoch 4/50\n",
            "45/45 [==============================] - 3s 65ms/step - loss: 0.0061\n",
            "Epoch 5/50\n",
            "45/45 [==============================] - 3s 65ms/step - loss: 0.0054\n",
            "Epoch 6/50\n",
            "45/45 [==============================] - 3s 64ms/step - loss: 0.0046\n",
            "Epoch 7/50\n",
            "45/45 [==============================] - 3s 66ms/step - loss: 0.0042\n",
            "Epoch 8/50\n",
            "45/45 [==============================] - 3s 63ms/step - loss: 0.0034\n",
            "Epoch 9/50\n",
            "45/45 [==============================] - 3s 64ms/step - loss: 0.0035\n",
            "Epoch 10/50\n",
            "45/45 [==============================] - 3s 64ms/step - loss: 0.0033\n",
            "Epoch 11/50\n",
            "45/45 [==============================] - 3s 64ms/step - loss: 0.0033\n",
            "Epoch 12/50\n",
            "45/45 [==============================] - 3s 64ms/step - loss: 0.0031\n",
            "Epoch 13/50\n",
            "45/45 [==============================] - 3s 64ms/step - loss: 0.0025\n",
            "Epoch 14/50\n",
            "45/45 [==============================] - 3s 64ms/step - loss: 0.0024\n",
            "Epoch 15/50\n",
            "45/45 [==============================] - 4s 91ms/step - loss: 0.0025\n",
            "Epoch 16/50\n",
            "45/45 [==============================] - 3s 74ms/step - loss: 0.0022\n",
            "Epoch 17/50\n",
            "45/45 [==============================] - 3s 65ms/step - loss: 0.0019\n",
            "Epoch 18/50\n",
            "45/45 [==============================] - 3s 64ms/step - loss: 0.0021\n",
            "Epoch 19/50\n",
            "45/45 [==============================] - 3s 65ms/step - loss: 0.0020\n",
            "Epoch 20/50\n",
            "45/45 [==============================] - 3s 64ms/step - loss: 0.0021\n",
            "Epoch 21/50\n",
            "45/45 [==============================] - 3s 62ms/step - loss: 0.0020\n",
            "Epoch 22/50\n",
            "45/45 [==============================] - 3s 65ms/step - loss: 0.0018\n",
            "Epoch 23/50\n",
            "45/45 [==============================] - 3s 64ms/step - loss: 0.0016\n",
            "Epoch 24/50\n",
            "45/45 [==============================] - 3s 64ms/step - loss: 0.0019\n",
            "Epoch 25/50\n",
            "45/45 [==============================] - 3s 66ms/step - loss: 0.0018\n",
            "Epoch 26/50\n",
            "45/45 [==============================] - 3s 64ms/step - loss: 0.0015\n",
            "Epoch 27/50\n",
            "45/45 [==============================] - 3s 64ms/step - loss: 0.0014\n",
            "Epoch 28/50\n",
            "45/45 [==============================] - 3s 65ms/step - loss: 0.0016\n",
            "Epoch 29/50\n",
            "45/45 [==============================] - 3s 64ms/step - loss: 0.0016\n",
            "Epoch 30/50\n",
            "45/45 [==============================] - 3s 63ms/step - loss: 0.0015\n",
            "Epoch 31/50\n",
            "45/45 [==============================] - 3s 65ms/step - loss: 0.0015\n",
            "Epoch 32/50\n",
            "45/45 [==============================] - 3s 63ms/step - loss: 0.0015\n",
            "Epoch 33/50\n",
            "45/45 [==============================] - 3s 64ms/step - loss: 0.0014\n",
            "Epoch 34/50\n",
            "45/45 [==============================] - 3s 64ms/step - loss: 0.0013\n",
            "Epoch 35/50\n",
            "45/45 [==============================] - 3s 65ms/step - loss: 0.0013\n",
            "Epoch 36/50\n",
            "45/45 [==============================] - 3s 62ms/step - loss: 0.0013\n",
            "Epoch 37/50\n",
            "45/45 [==============================] - 3s 62ms/step - loss: 0.0013\n",
            "Epoch 38/50\n",
            "45/45 [==============================] - 3s 62ms/step - loss: 0.0013\n",
            "Epoch 39/50\n",
            "45/45 [==============================] - 3s 63ms/step - loss: 0.0013\n",
            "Epoch 40/50\n",
            "45/45 [==============================] - 3s 63ms/step - loss: 0.0013\n",
            "Epoch 41/50\n",
            "45/45 [==============================] - 3s 65ms/step - loss: 0.0013\n",
            "Epoch 42/50\n",
            "45/45 [==============================] - 3s 65ms/step - loss: 0.0014\n",
            "Epoch 43/50\n",
            "45/45 [==============================] - 3s 64ms/step - loss: 0.0013\n",
            "Epoch 44/50\n",
            "45/45 [==============================] - 3s 62ms/step - loss: 0.0010\n",
            "Epoch 45/50\n",
            "45/45 [==============================] - 3s 62ms/step - loss: 9.9768e-04\n",
            "Epoch 46/50\n",
            "45/45 [==============================] - 3s 66ms/step - loss: 0.0012\n",
            "Epoch 47/50\n",
            "45/45 [==============================] - 3s 65ms/step - loss: 0.0012\n",
            "Epoch 48/50\n",
            "45/45 [==============================] - 3s 66ms/step - loss: 9.9063e-04\n",
            "Epoch 49/50\n",
            "45/45 [==============================] - 3s 65ms/step - loss: 0.0011\n",
            "Epoch 50/50\n",
            "45/45 [==============================] - 3s 65ms/step - loss: 0.0011\n"
          ]
        },
        {
          "output_type": "execute_result",
          "data": {
            "text/plain": [
              "<keras.callbacks.History at 0x7f2330568350>"
            ]
          },
          "metadata": {},
          "execution_count": 27
        }
      ]
    },
    {
      "cell_type": "code",
      "source": [
        "predicted_model_0 = model0.predict(X_test)\n",
        "predicted_model_0 = sc.inverse_transform(predicted_model_0)\n",
        "predicted_model_0[:10]"
      ],
      "metadata": {
        "colab": {
          "base_uri": "https://localhost:8080/"
        },
        "id": "rSIiZzIFbU99",
        "outputId": "cf0ef161-2d51-4087-d281-b81300b738f4"
      },
      "execution_count": 28,
      "outputs": [
        {
          "output_type": "stream",
          "name": "stdout",
          "text": [
            "13/13 [==============================] - 0s 11ms/step\n"
          ]
        },
        {
          "output_type": "execute_result",
          "data": {
            "text/plain": [
              "array([[327.34854],\n",
              "       [273.3189 ],\n",
              "       [235.26485],\n",
              "       [216.68034],\n",
              "       [231.95767],\n",
              "       [225.33978],\n",
              "       [235.84886],\n",
              "       [223.20972],\n",
              "       [229.51611],\n",
              "       [215.79861]], dtype=float32)"
            ]
          },
          "metadata": {},
          "execution_count": 28
        }
      ]
    },
    {
      "cell_type": "code",
      "source": [
        "plt.figure(figsize=(20,5))\n",
        "plot_1 = (plt.plot(real_stock_price['Close'], color = 'blue', label = 'Stock Price'),plt.plot(predicted_model_0, color = 'black', label = 'Predicted Stock Price'))\n",
        "plt.title('Stock Price Prediction')\n",
        "plt.xlabel('Trading Day')\n",
        "plt.ylabel('Stock Price')\n",
        "plt.legend()\n",
        "plt.show()"
      ],
      "metadata": {
        "colab": {
          "base_uri": "https://localhost:8080/",
          "height": 350
        },
        "id": "hWZxL1s9biuV",
        "outputId": "07968ea0-2360-4e0c-ebc1-10e062a25e05"
      },
      "execution_count": 44,
      "outputs": [
        {
          "output_type": "display_data",
          "data": {
            "text/plain": [
              "<Figure size 1440x360 with 1 Axes>"
            ],
            "image/png": "[encoded data removed]"
          },
          "metadata": {
            "needs_background": "light"
          }
        }
      ]
    },
    {
      "cell_type": "code",
      "source": [
        "model1 = tf.keras.Sequential()\n",
        "\n",
        "model1.add(tf.keras.layers.SimpleRNN(units = 50, activation = 'tanh', return_sequences = True, input_shape = (X_train.shape[1], 1)))\n",
        "model1.add(tf.keras.layers.Dropout(0.2))\n",
        "model1.add(tf.keras.layers.SimpleRNN(units = 50, return_sequences = True))\n",
        "model1.add(tf.keras.layers.Dropout(0.2))\n",
        "model1.add(tf.keras.layers.SimpleRNN(units = 50))\n",
        "model1.add(tf.keras.layers.Dropout(0.2))\n",
        "model1.add(tf.keras.layers.Dense(units = 1))\n",
        "model1.compile(optimizer = 'adam', loss = 'mean_squared_error')\n",
        "model1.summary()"
      ],
      "metadata": {
        "colab": {
          "base_uri": "https://localhost:8080/"
        },
        "id": "YTmMhl83dbys",
        "outputId": "7cdfaa26-2a76-4252-b32d-dc3e5455d558"
      },
      "execution_count": 30,
      "outputs": [
        {
          "output_type": "stream",
          "name": "stdout",
          "text": [
            "Model: \"sequential_2\"\n",
            "_________________________________________________________________\n",
            " Layer (type)                Output Shape              Param #   \n",
            "=================================================================\n",
            " simple_rnn_2 (SimpleRNN)    (None, 60, 50)            2600      \n",
            "                                                                 \n",
            " dropout_6 (Dropout)         (None, 60, 50)            0         \n",
            "                                                                 \n",
            " simple_rnn_3 (SimpleRNN)    (None, 60, 50)            5050      \n",
            "                                                                 \n",
            " dropout_7 (Dropout)         (None, 60, 50)            0         \n",
            "                                                                 \n",
            " simple_rnn_4 (SimpleRNN)    (None, 50)                5050      \n",
            "                                                                 \n",
            " dropout_8 (Dropout)         (None, 50)                0         \n",
            "                                                                 \n",
            " dense_2 (Dense)             (None, 1)                 51        \n",
            "                                                                 \n",
            "=================================================================\n",
            "Total params: 12,751\n",
            "Trainable params: 12,751\n",
            "Non-trainable params: 0\n",
            "_________________________________________________________________\n"
          ]
        }
      ]
    },
    {
      "cell_type": "code",
      "source": [
        "model1.fit(X_train, y_train, epochs = 50, batch_size = 32)"
      ],
      "metadata": {
        "colab": {
          "base_uri": "https://localhost:8080/"
        },
        "id": "Cj9TrG4QeFdZ",
        "outputId": "16f4e339-f5e9-447b-ec7d-c81babbb6d73"
      },
      "execution_count": 31,
      "outputs": [
        {
          "output_type": "stream",
          "name": "stdout",
          "text": [
            "Epoch 1/50\n",
            "45/45 [==============================] - 6s 101ms/step - loss: 0.1820\n",
            "Epoch 2/50\n",
            "45/45 [==============================] - 5s 101ms/step - loss: 0.0695\n",
            "Epoch 3/50\n",
            "45/45 [==============================] - 4s 98ms/step - loss: 0.0352\n",
            "Epoch 4/50\n",
            "45/45 [==============================] - 5s 102ms/step - loss: 0.0272\n",
            "Epoch 5/50\n",
            "45/45 [==============================] - 4s 99ms/step - loss: 0.0248\n",
            "Epoch 6/50\n",
            "45/45 [==============================] - 4s 99ms/step - loss: 0.0177\n",
            "Epoch 7/50\n",
            "45/45 [==============================] - 5s 100ms/step - loss: 0.0128\n",
            "Epoch 8/50\n",
            "45/45 [==============================] - 5s 100ms/step - loss: 0.0131\n",
            "Epoch 9/50\n",
            "45/45 [==============================] - 6s 124ms/step - loss: 0.0107\n",
            "Epoch 10/50\n",
            "45/45 [==============================] - 6s 124ms/step - loss: 0.0096\n",
            "Epoch 11/50\n",
            "45/45 [==============================] - 5s 101ms/step - loss: 0.0089\n",
            "Epoch 12/50\n",
            "45/45 [==============================] - 5s 103ms/step - loss: 0.0087\n",
            "Epoch 13/50\n",
            "45/45 [==============================] - 5s 101ms/step - loss: 0.0067\n",
            "Epoch 14/50\n",
            "45/45 [==============================] - 5s 104ms/step - loss: 0.0071\n",
            "Epoch 15/50\n",
            "45/45 [==============================] - 5s 102ms/step - loss: 0.0067\n",
            "Epoch 16/50\n",
            "45/45 [==============================] - 5s 101ms/step - loss: 0.0057\n",
            "Epoch 17/50\n",
            "45/45 [==============================] - 5s 105ms/step - loss: 0.0050\n",
            "Epoch 18/50\n",
            "45/45 [==============================] - 5s 104ms/step - loss: 0.0052\n",
            "Epoch 19/50\n",
            "45/45 [==============================] - 5s 104ms/step - loss: 0.0048\n",
            "Epoch 20/50\n",
            "45/45 [==============================] - 5s 101ms/step - loss: 0.0044\n",
            "Epoch 21/50\n",
            "45/45 [==============================] - 5s 101ms/step - loss: 0.0041\n",
            "Epoch 22/50\n",
            "45/45 [==============================] - 4s 100ms/step - loss: 0.0047\n",
            "Epoch 23/50\n",
            "45/45 [==============================] - 5s 101ms/step - loss: 0.0035\n",
            "Epoch 24/50\n",
            "45/45 [==============================] - 5s 101ms/step - loss: 0.0038\n",
            "Epoch 25/50\n",
            "45/45 [==============================] - 5s 102ms/step - loss: 0.0036\n",
            "Epoch 26/50\n",
            "45/45 [==============================] - 5s 102ms/step - loss: 0.0037\n",
            "Epoch 27/50\n",
            "45/45 [==============================] - 4s 99ms/step - loss: 0.0034\n",
            "Epoch 28/50\n",
            "45/45 [==============================] - 4s 99ms/step - loss: 0.0036\n",
            "Epoch 29/50\n",
            "45/45 [==============================] - 5s 102ms/step - loss: 0.0031\n",
            "Epoch 30/50\n",
            "45/45 [==============================] - 5s 101ms/step - loss: 0.0030\n",
            "Epoch 31/50\n",
            "45/45 [==============================] - 5s 102ms/step - loss: 0.0030\n",
            "Epoch 32/50\n",
            "45/45 [==============================] - 4s 100ms/step - loss: 0.0031\n",
            "Epoch 33/50\n",
            "45/45 [==============================] - 4s 99ms/step - loss: 0.0028\n",
            "Epoch 34/50\n",
            "45/45 [==============================] - 4s 99ms/step - loss: 0.0028\n",
            "Epoch 35/50\n",
            "45/45 [==============================] - 5s 102ms/step - loss: 0.0023\n",
            "Epoch 36/50\n",
            "45/45 [==============================] - 5s 101ms/step - loss: 0.0028\n",
            "Epoch 37/50\n",
            "45/45 [==============================] - 5s 101ms/step - loss: 0.0029\n",
            "Epoch 38/50\n",
            "45/45 [==============================] - 4s 99ms/step - loss: 0.0025\n",
            "Epoch 39/50\n",
            "45/45 [==============================] - 5s 104ms/step - loss: 0.0021\n",
            "Epoch 40/50\n",
            "45/45 [==============================] - 4s 100ms/step - loss: 0.0021\n",
            "Epoch 41/50\n",
            "45/45 [==============================] - 5s 101ms/step - loss: 0.0020\n",
            "Epoch 42/50\n",
            "45/45 [==============================] - 4s 99ms/step - loss: 0.0022\n",
            "Epoch 43/50\n",
            "45/45 [==============================] - 4s 98ms/step - loss: 0.0021\n",
            "Epoch 44/50\n",
            "45/45 [==============================] - 5s 100ms/step - loss: 0.0022\n",
            "Epoch 45/50\n",
            "45/45 [==============================] - 4s 99ms/step - loss: 0.0021\n",
            "Epoch 46/50\n",
            "45/45 [==============================] - 4s 99ms/step - loss: 0.0019\n",
            "Epoch 47/50\n",
            "45/45 [==============================] - 5s 104ms/step - loss: 0.0022\n",
            "Epoch 48/50\n",
            "45/45 [==============================] - 5s 101ms/step - loss: 0.0019\n",
            "Epoch 49/50\n",
            "45/45 [==============================] - 4s 99ms/step - loss: 0.0017\n",
            "Epoch 50/50\n",
            "45/45 [==============================] - 4s 98ms/step - loss: 0.0018\n"
          ]
        },
        {
          "output_type": "execute_result",
          "data": {
            "text/plain": [
              "<keras.callbacks.History at 0x7f22d4856490>"
            ]
          },
          "metadata": {},
          "execution_count": 31
        }
      ]
    },
    {
      "cell_type": "code",
      "source": [
        "predicted_model_1 = model1.predict(X_test)\n",
        "predicted_model_1 = sc.inverse_transform(predicted_model_1)\n",
        "predicted_model_1[:10]"
      ],
      "metadata": {
        "colab": {
          "base_uri": "https://localhost:8080/"
        },
        "id": "vuJIdkhJfRT6",
        "outputId": "7ef319f9-73f0-4cc5-c369-6fdcc39cb37f"
      },
      "execution_count": 32,
      "outputs": [
        {
          "output_type": "stream",
          "name": "stdout",
          "text": [
            "13/13 [==============================] - 0s 14ms/step\n"
          ]
        },
        {
          "output_type": "execute_result",
          "data": {
            "text/plain": [
              "array([[303.95917],\n",
              "       [272.9492 ],\n",
              "       [250.23312],\n",
              "       [224.8033 ],\n",
              "       [215.28487],\n",
              "       [216.3684 ],\n",
              "       [218.83826],\n",
              "       [215.72095],\n",
              "       [219.90941],\n",
              "       [219.063  ]], dtype=float32)"
            ]
          },
          "metadata": {},
          "execution_count": 32
        }
      ]
    },
    {
      "cell_type": "code",
      "source": [
        "plt.figure(figsize=(20,5))\n",
        "plot_2 = (plt.plot(real_stock_price['Close'], color = 'blue', label = 'Stock Price'),plt.plot(predicted_model_1, color = 'black', label = 'Predicted Stock Price'))\n",
        "plt.title('Stock Price Prediction')\n",
        "plt.xlabel('Trading Day')\n",
        "plt.ylabel('Stock Price')\n",
        "plt.legend()\n",
        "plt.show(plot_2)\n",
        "#387"
      ],
      "metadata": {
        "colab": {
          "base_uri": "https://localhost:8080/",
          "height": 350
        },
        "id": "_Yai4dD-fTCk",
        "outputId": "6577a274-c44a-4d2e-a32b-8de2d788833d"
      },
      "execution_count": 49,
      "outputs": [
        {
          "output_type": "display_data",
          "data": {
            "text/plain": [
              "<Figure size 1440x360 with 1 Axes>"
            ],
            "image/png": "[encoded data removed]"
          },
          "metadata": {
            "needs_background": "light"
          }
        }
      ]
    },
    {
      "cell_type": "code",
      "source": [
        "plt.figure(figsize=(30,5))\n",
        "megaplot = (plt.plot(real_stock_price['Close'][:387], color = 'black', label = 'Stock Price'),\n",
        "            plt.plot(predicted, color = 'blue', label = 'Predicted Stock Price LSTM'),\n",
        "            plt.plot(predicted_model_0, color = 'green', label = 'Predicted Stock Price SimpleRNN (2 Layers)'),\n",
        "            plt.plot(predicted_model_1, color = 'red', label = 'Predicted Stock Price SimpleRNN (3 Layers)'))\n",
        "plt.title('Stock Price Prediction')\n",
        "plt.xlabel('Trading Day')\n",
        "plt.ylabel('Stock Price')\n",
        "plt.legend()\n",
        "plt.show(megaplot)"
      ],
      "metadata": {
        "colab": {
          "base_uri": "https://localhost:8080/",
          "height": 290
        },
        "id": "KY2sZZx0C2o9",
        "outputId": "b904fb4d-a38c-48c2-fe58-95ca636d6ebe"
      },
      "execution_count": 77,
      "outputs": [
        {
          "output_type": "display_data",
          "data": {
            "text/plain": [
              "<Figure size 2160x360 with 1 Axes>"
            ],
            "image/png": "[encoded data removed]"
          },
          "metadata": {
            "needs_background": "light"
          }
        }
      ]
    },
    {
      "cell_type": "code",
      "source": [
        "ls1 = [mean_squared_error(predicted,real_stock_price['Close'][:387]),mean_squared_error(predicted_model_0,real_stock_price['Close'][:387]),mean_squared_error(predicted_model_1,real_stock_price['Close'][:387])]\n",
        "ls2 = [mean_absolute_error(predicted,real_stock_price['Close'][:387]),mean_absolute_error(predicted_model_0,real_stock_price['Close'][:387]),mean_absolute_error(predicted_model_1,real_stock_price['Close'][:387])]\n",
        "ls3 = [r2_score(predicted,real_stock_price['Close'][:387]),r2_score(predicted_model_0,real_stock_price['Close'][:387]),r2_score(predicted_model_1,real_stock_price['Close'][:387])]\n",
        "ls4 = np.sqrt(ls1)\n",
        "comp_df = pd.DataFrame({'Model':['Model 1 LSTM','Model 2 SimpleRNN (2 Layers)','Model 3 SimpleRNN (3 Layers)']})\n",
        "comp_df"
      ],
      "metadata": {
        "colab": {
          "base_uri": "https://localhost:8080/",
          "height": 143
        },
        "id": "DAZBJmsEFo0W",
        "outputId": "01603bd7-8821-46de-bc78-129894cdba75"
      },
      "execution_count": 78,
      "outputs": [
        {
          "output_type": "execute_result",
          "data": {
            "text/plain": [
              "                          Model\n",
              "0                  Model 1 LSTM\n",
              "1  Model 2 SimpleRNN (2 Layers)\n",
              "2  Model 3 SimpleRNN (3 Layers)"
            ],
            "text/html": [
              "\n",
              "  <div id=\"df-18226fe8-bb1a-497e-b764-87a6f5664a8b\">\n",
              "    <div class=\"colab-df-container\">\n",
              "      <div>\n",
              "<style scoped>\n",
              "    .dataframe tbody tr th:only-of-type {\n",
              "        vertical-align: middle;\n",
              "    }\n",
              "\n",
              "    .dataframe tbody tr th {\n",
              "        vertical-align: top;\n",
              "    }\n",
              "\n",
              "    .dataframe thead th {\n",
              "        text-align: right;\n",
              "    }\n",
              "</style>\n",
              "<table border=\"1\" class=\"dataframe\">\n",
              "  <thead>\n",
              "    <tr style=\"text-align: right;\">\n",
              "      <th></th>\n",
              "      <th>Model</th>\n",
              "    </tr>\n",
              "  </thead>\n",
              "  <tbody>\n",
              "    <tr>\n",
              "      <th>0</th>\n",
              "      <td>Model 1 LSTM</td>\n",
              "    </tr>\n",
              "    <tr>\n",
              "      <th>1</th>\n",
              "      <td>Model 2 SimpleRNN (2 Layers)</td>\n",
              "    </tr>\n",
              "    <tr>\n",
              "      <th>2</th>\n",
              "      <td>Model 3 SimpleRNN (3 Layers)</td>\n",
              "    </tr>\n",
              "  </tbody>\n",
              "</table>\n",
              "</div>\n",
              "      <button class=\"colab-df-convert\" onclick=\"convertToInteractive('df-18226fe8-bb1a-497e-b764-87a6f5664a8b')\"\n",
              "              title=\"Convert this dataframe to an interactive table.\"\n",
              "              style=\"display:none;\">\n",
              "        \n",
              "  <svg xmlns=\"http://www.w3.org/2000/svg\" height=\"24px\"viewBox=\"0 0 24 24\"\n",
              "       width=\"24px\">\n",
              "    <path d=\"M0 0h24v24H0V0z\" fill=\"none\"/>\n",
              "    <path d=\"M18.56 5.44l.94 2.06.94-2.06 2.06-.94-2.06-.94-.94-2.06-.94 2.06-2.06.94zm-11 1L8.5 8.5l.94-2.06 2.06-.94-2.06-.94L8.5 2.5l-.94 2.06-2.06.94zm10 10l.94 2.06.94-2.06 2.06-.94-2.06-.94-.94-2.06-.94 2.06-2.06.94z\"/><path d=\"M17.41 7.96l-1.37-1.37c-.4-.4-.92-.59-1.43-.59-.52 0-1.04.2-1.43.59L10.3 9.45l-7.72 7.72c-.78.78-.78 2.05 0 2.83L4 21.41c.39.39.9.59 1.41.59.51 0 1.02-.2 1.41-.59l7.78-7.78 2.81-2.81c.8-.78.8-2.07 0-2.86zM5.41 20L4 18.59l7.72-7.72 1.47 1.35L5.41 20z\"/>\n",
              "  </svg>\n",
              "      </button>\n",
              "      \n",
              "  <style>\n",
              "    .colab-df-container {\n",
              "      display:flex;\n",
              "      flex-wrap:wrap;\n",
              "      gap: 12px;\n",
              "    }\n",
              "\n",
              "    .colab-df-convert {\n",
              "      background-color: #E8F0FE;\n",
              "      border: none;\n",
              "      border-radius: 50%;\n",
              "      cursor: pointer;\n",
              "      display: none;\n",
              "      fill: #1967D2;\n",
              "      height: 32px;\n",
              "      padding: 0 0 0 0;\n",
              "      width: 32px;\n",
              "    }\n",
              "\n",
              "    .colab-df-convert:hover {\n",
              "      background-color: #E2EBFA;\n",
              "      box-shadow: 0px 1px 2px rgba(60, 64, 67, 0.3), 0px 1px 3px 1px rgba(60, 64, 67, 0.15);\n",
              "      fill: #174EA6;\n",
              "    }\n",
              "\n",
              "    [theme=dark] .colab-df-convert {\n",
              "      background-color: #3B4455;\n",
              "      fill: #D2E3FC;\n",
              "    }\n",
              "\n",
              "    [theme=dark] .colab-df-convert:hover {\n",
              "      background-color: #434B5C;\n",
              "      box-shadow: 0px 1px 3px 1px rgba(0, 0, 0, 0.15);\n",
              "      filter: drop-shadow(0px 1px 2px rgba(0, 0, 0, 0.3));\n",
              "      fill: #FFFFFF;\n",
              "    }\n",
              "  </style>\n",
              "\n",
              "      <script>\n",
              "        const buttonEl =\n",
              "          document.querySelector('#df-18226fe8-bb1a-497e-b764-87a6f5664a8b button.colab-df-convert');\n",
              "        buttonEl.style.display =\n",
              "          google.colab.kernel.accessAllowed ? 'block' : 'none';\n",
              "\n",
              "        async function convertToInteractive(key) {\n",
              "          const element = document.querySelector('#df-18226fe8-bb1a-497e-b764-87a6f5664a8b');\n",
              "          const dataTable =\n",
              "            await google.colab.kernel.invokeFunction('convertToInteractive',\n",
              "                                                     [key], {});\n",
              "          if (!dataTable) return;\n",
              "\n",
              "          const docLinkHtml = 'Like what you see? Visit the ' +\n",
              "            '<a target=\"_blank\" href=https://colab.research.google.com/notebooks/data_table.ipynb>data table notebook</a>'\n",
              "            + ' to learn more about interactive tables.';\n",
              "          element.innerHTML = '';\n",
              "          dataTable['output_type'] = 'display_data';\n",
              "          await google.colab.output.renderOutput(dataTable, element);\n",
              "          const docLink = document.createElement('div');\n",
              "          docLink.innerHTML = docLinkHtml;\n",
              "          element.appendChild(docLink);\n",
              "        }\n",
              "      </script>\n",
              "    </div>\n",
              "  </div>\n",
              "  "
            ]
          },
          "metadata": {},
          "execution_count": 78
        }
      ]
    },
    {
      "cell_type": "code",
      "source": [
        "comp_df['MSE'] = ls1\n",
        "comp_df['MAE'] = ls2\n",
        "comp_df['R2 Score'] = ls3\n",
        "comp_df['RMSE'] = ls4"
      ],
      "metadata": {
        "id": "_LP2QCwdIpSW"
      },
      "execution_count": 79,
      "outputs": []
    },
    {
      "cell_type": "code",
      "source": [
        "comp_df"
      ],
      "metadata": {
        "colab": {
          "base_uri": "https://localhost:8080/",
          "height": 143
        },
        "id": "D3iPmiU6JBU6",
        "outputId": "ad9b7b0c-aafe-425b-c129-3268f3b304f4"
      },
      "execution_count": 86,
      "outputs": [
        {
          "output_type": "execute_result",
          "data": {
            "text/plain": [
              "                          Model         MSE        MAE  R2 Score       RMSE\n",
              "0                  Model 1 LSTM  601.731856  19.137135 -1.455313  24.530223\n",
              "1  Model 2 SimpleRNN (2 Layers)  102.581234   6.893391  0.854106  10.128239\n",
              "2  Model 3 SimpleRNN (3 Layers)  360.747644  15.181057  0.254516  18.993358"
            ],
            "text/html": [
              "\n",
              "  <div id=\"df-d2966f8c-8191-4bae-8ae1-a49e629dbc18\">\n",
              "    <div class=\"colab-df-container\">\n",
              "      <div>\n",
              "<style scoped>\n",
              "    .dataframe tbody tr th:only-of-type {\n",
              "        vertical-align: middle;\n",
              "    }\n",
              "\n",
              "    .dataframe tbody tr th {\n",
              "        vertical-align: top;\n",
              "    }\n",
              "\n",
              "    .dataframe thead th {\n",
              "        text-align: right;\n",
              "    }\n",
              "</style>\n",
              "<table border=\"1\" class=\"dataframe\">\n",
              "  <thead>\n",
              "    <tr style=\"text-align: right;\">\n",
              "      <th></th>\n",
              "      <th>Model</th>\n",
              "      <th>MSE</th>\n",
              "      <th>MAE</th>\n",
              "      <th>R2 Score</th>\n",
              "      <th>RMSE</th>\n",
              "    </tr>\n",
              "  </thead>\n",
              "  <tbody>\n",
              "    <tr>\n",
              "      <th>0</th>\n",
              "      <td>Model 1 LSTM</td>\n",
              "      <td>601.731856</td>\n",
              "      <td>19.137135</td>\n",
              "      <td>-1.455313</td>\n",
              "      <td>24.530223</td>\n",
              "    </tr>\n",
              "    <tr>\n",
              "      <th>1</th>\n",
              "      <td>Model 2 SimpleRNN (2 Layers)</td>\n",
              "      <td>102.581234</td>\n",
              "      <td>6.893391</td>\n",
              "      <td>0.854106</td>\n",
              "      <td>10.128239</td>\n",
              "    </tr>\n",
              "    <tr>\n",
              "      <th>2</th>\n",
              "      <td>Model 3 SimpleRNN (3 Layers)</td>\n",
              "      <td>360.747644</td>\n",
              "      <td>15.181057</td>\n",
              "      <td>0.254516</td>\n",
              "      <td>18.993358</td>\n",
              "    </tr>\n",
              "  </tbody>\n",
              "</table>\n",
              "</div>\n",
              "      <button class=\"colab-df-convert\" onclick=\"convertToInteractive('df-d2966f8c-8191-4bae-8ae1-a49e629dbc18')\"\n",
              "              title=\"Convert this dataframe to an interactive table.\"\n",
              "              style=\"display:none;\">\n",
              "        \n",
              "  <svg xmlns=\"http://www.w3.org/2000/svg\" height=\"24px\"viewBox=\"0 0 24 24\"\n",
              "       width=\"24px\">\n",
              "    <path d=\"M0 0h24v24H0V0z\" fill=\"none\"/>\n",
              "    <path d=\"M18.56 5.44l.94 2.06.94-2.06 2.06-.94-2.06-.94-.94-2.06-.94 2.06-2.06.94zm-11 1L8.5 8.5l.94-2.06 2.06-.94-2.06-.94L8.5 2.5l-.94 2.06-2.06.94zm10 10l.94 2.06.94-2.06 2.06-.94-2.06-.94-.94-2.06-.94 2.06-2.06.94z\"/><path d=\"M17.41 7.96l-1.37-1.37c-.4-.4-.92-.59-1.43-.59-.52 0-1.04.2-1.43.59L10.3 9.45l-7.72 7.72c-.78.78-.78 2.05 0 2.83L4 21.41c.39.39.9.59 1.41.59.51 0 1.02-.2 1.41-.59l7.78-7.78 2.81-2.81c.8-.78.8-2.07 0-2.86zM5.41 20L4 18.59l7.72-7.72 1.47 1.35L5.41 20z\"/>\n",
              "  </svg>\n",
              "      </button>\n",
              "      \n",
              "  <style>\n",
              "    .colab-df-container {\n",
              "      display:flex;\n",
              "      flex-wrap:wrap;\n",
              "      gap: 12px;\n",
              "    }\n",
              "\n",
              "    .colab-df-convert {\n",
              "      background-color: #E8F0FE;\n",
              "      border: none;\n",
              "      border-radius: 50%;\n",
              "      cursor: pointer;\n",
              "      display: none;\n",
              "      fill: #1967D2;\n",
              "      height: 32px;\n",
              "      padding: 0 0 0 0;\n",
              "      width: 32px;\n",
              "    }\n",
              "\n",
              "    .colab-df-convert:hover {\n",
              "      background-color: #E2EBFA;\n",
              "      box-shadow: 0px 1px 2px rgba(60, 64, 67, 0.3), 0px 1px 3px 1px rgba(60, 64, 67, 0.15);\n",
              "      fill: #174EA6;\n",
              "    }\n",
              "\n",
              "    [theme=dark] .colab-df-convert {\n",
              "      background-color: #3B4455;\n",
              "      fill: #D2E3FC;\n",
              "    }\n",
              "\n",
              "    [theme=dark] .colab-df-convert:hover {\n",
              "      background-color: #434B5C;\n",
              "      box-shadow: 0px 1px 3px 1px rgba(0, 0, 0, 0.15);\n",
              "      filter: drop-shadow(0px 1px 2px rgba(0, 0, 0, 0.3));\n",
              "      fill: #FFFFFF;\n",
              "    }\n",
              "  </style>\n",
              "\n",
              "      <script>\n",
              "        const buttonEl =\n",
              "          document.querySelector('#df-d2966f8c-8191-4bae-8ae1-a49e629dbc18 button.colab-df-convert');\n",
              "        buttonEl.style.display =\n",
              "          google.colab.kernel.accessAllowed ? 'block' : 'none';\n",
              "\n",
              "        async function convertToInteractive(key) {\n",
              "          const element = document.querySelector('#df-d2966f8c-8191-4bae-8ae1-a49e629dbc18');\n",
              "          const dataTable =\n",
              "            await google.colab.kernel.invokeFunction('convertToInteractive',\n",
              "                                                     [key], {});\n",
              "          if (!dataTable) return;\n",
              "\n",
              "          const docLinkHtml = 'Like what you see? Visit the ' +\n",
              "            '<a target=\"_blank\" href=https://colab.research.google.com/notebooks/data_table.ipynb>data table notebook</a>'\n",
              "            + ' to learn more about interactive tables.';\n",
              "          element.innerHTML = '';\n",
              "          dataTable['output_type'] = 'display_data';\n",
              "          await google.colab.output.renderOutput(dataTable, element);\n",
              "          const docLink = document.createElement('div');\n",
              "          docLink.innerHTML = docLinkHtml;\n",
              "          element.appendChild(docLink);\n",
              "        }\n",
              "      </script>\n",
              "    </div>\n",
              "  </div>\n",
              "  "
            ]
          },
          "metadata": {},
          "execution_count": 86
        }
      ]
    },
    {
      "cell_type": "code",
      "source": [
        "plt.figure(figsize=(10,5))\n",
        "sns.barplot(x = 'Model',y = 'MSE', data = comp_df)"
      ],
      "metadata": {
        "colab": {
          "base_uri": "https://localhost:8080/",
          "height": 351
        },
        "id": "a4qSJ232KoTm",
        "outputId": "823e0013-2ffb-411e-af22-8eed019b00e0"
      },
      "execution_count": 82,
      "outputs": [
        {
          "output_type": "execute_result",
          "data": {
            "text/plain": [
              "<matplotlib.axes._subplots.AxesSubplot at 0x7f227b219310>"
            ]
          },
          "metadata": {},
          "execution_count": 82
        },
        {
          "output_type": "display_data",
          "data": {
            "text/plain": [
              "<Figure size 720x360 with 1 Axes>"
            ],
            "image/png": "[encoded data removed]"
          },
          "metadata": {
            "needs_background": "light"
          }
        }
      ]
    },
    {
      "cell_type": "code",
      "source": [
        "plt.figure(figsize=(10,5))\n",
        "sns.barplot(x = 'Model',y = 'MAE', data = comp_df)"
      ],
      "metadata": {
        "colab": {
          "base_uri": "https://localhost:8080/",
          "height": 353
        },
        "id": "cMwoGbx-LM_V",
        "outputId": "435cd220-528d-4cee-9713-d5ca8cea3a66"
      },
      "execution_count": 83,
      "outputs": [
        {
          "output_type": "execute_result",
          "data": {
            "text/plain": [
              "<matplotlib.axes._subplots.AxesSubplot at 0x7f227b8a2410>"
            ]
          },
          "metadata": {},
          "execution_count": 83
        },
        {
          "output_type": "display_data",
          "data": {
            "text/plain": [
              "<Figure size 720x360 with 1 Axes>"
            ],
            "image/png": "[encoded data removed]"
          },
          "metadata": {
            "needs_background": "light"
          }
        }
      ]
    },
    {
      "cell_type": "code",
      "source": [
        "plt.figure(figsize=(10,5))\n",
        "sns.barplot(x = 'Model',y = 'R2 Score', data = comp_df)"
      ],
      "metadata": {
        "colab": {
          "base_uri": "https://localhost:8080/",
          "height": 351
        },
        "id": "Q3JHJURnLoR3",
        "outputId": "230b4210-3f4b-4e20-9b76-7d2065f48598"
      },
      "execution_count": 84,
      "outputs": [
        {
          "output_type": "execute_result",
          "data": {
            "text/plain": [
              "<matplotlib.axes._subplots.AxesSubplot at 0x7f227b1f0210>"
            ]
          },
          "metadata": {},
          "execution_count": 84
        },
        {
          "output_type": "display_data",
          "data": {
            "text/plain": [
              "<Figure size 720x360 with 1 Axes>"
            ],
            "image/png": "[encoded data removed]"
          },
          "metadata": {
            "needs_background": "light"
          }
        }
      ]
    },
    {
      "cell_type": "code",
      "source": [
        "plt.figure(figsize=(10,5))\n",
        "sns.barplot(x = 'Model',y = 'RMSE', data = comp_df)"
      ],
      "metadata": {
        "colab": {
          "base_uri": "https://localhost:8080/",
          "height": 351
        },
        "id": "jL7T_PfvLqrT",
        "outputId": "3d6aa46c-69c6-45ce-c274-ebbbd22e807b"
      },
      "execution_count": 85,
      "outputs": [
        {
          "output_type": "execute_result",
          "data": {
            "text/plain": [
              "<matplotlib.axes._subplots.AxesSubplot at 0x7f227b146390>"
            ]
          },
          "metadata": {},
          "execution_count": 85
        },
        {
          "output_type": "display_data",
          "data": {
            "text/plain": [
              "<Figure size 720x360 with 1 Axes>"
            ],
            "image/png": "[encoded data removed]"
          },
          "metadata": {
            "needs_background": "light"
          }
        }
      ]
    },
    {
      "cell_type": "code",
      "source": [],
      "metadata": {
        "id": "fWGornNBLrfU"
      },
      "execution_count": null,
      "outputs": []
    }
  ]
}